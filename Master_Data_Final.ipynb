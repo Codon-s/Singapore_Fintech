{
 "cells": [
  {
   "cell_type": "code",
   "execution_count": 1,
   "id": "535f75cb",
   "metadata": {},
   "outputs": [],
   "source": [
    "import pandas as pd\n",
    "import numpy as np\n",
    "import seaborn as sb\n",
    "import matplotlib.pyplot as plt\n",
    "import warnings"
   ]
  },
  {
   "cell_type": "code",
   "execution_count": 5,
   "id": "98eb87cd",
   "metadata": {},
   "outputs": [],
   "source": [
    "df = pd.read_csv('../DataSets/Fin_Singa/Property_Tax/Master_Data.csv')"
   ]
  },
  {
   "cell_type": "code",
   "execution_count": 6,
   "id": "4e53cef0",
   "metadata": {},
   "outputs": [
    {
     "data": {
      "text/html": [
       "<div>\n",
       "<style scoped>\n",
       "    .dataframe tbody tr th:only-of-type {\n",
       "        vertical-align: middle;\n",
       "    }\n",
       "\n",
       "    .dataframe tbody tr th {\n",
       "        vertical-align: top;\n",
       "    }\n",
       "\n",
       "    .dataframe thead th {\n",
       "        text-align: right;\n",
       "    }\n",
       "</style>\n",
       "<table border=\"1\" class=\"dataframe\">\n",
       "  <thead>\n",
       "    <tr style=\"text-align: right;\">\n",
       "      <th></th>\n",
       "      <th>financial_year</th>\n",
       "      <th>property_type</th>\n",
       "      <th>no_of_cases</th>\n",
       "      <th>annual_value</th>\n",
       "      <th>median_annual_value</th>\n",
       "      <th>property_tax_collection</th>\n",
       "    </tr>\n",
       "  </thead>\n",
       "  <tbody>\n",
       "    <tr>\n",
       "      <th>0</th>\n",
       "      <td>2002</td>\n",
       "      <td>HDB</td>\n",
       "      <td>780522</td>\n",
       "      <td>na</td>\n",
       "      <td>na</td>\n",
       "      <td>33681</td>\n",
       "    </tr>\n",
       "    <tr>\n",
       "      <th>1</th>\n",
       "      <td>2002</td>\n",
       "      <td>Private Residential</td>\n",
       "      <td>204943</td>\n",
       "      <td>na</td>\n",
       "      <td>na</td>\n",
       "      <td>287656</td>\n",
       "    </tr>\n",
       "    <tr>\n",
       "      <th>2</th>\n",
       "      <td>2002</td>\n",
       "      <td>Commercial</td>\n",
       "      <td>63179</td>\n",
       "      <td>na</td>\n",
       "      <td>na</td>\n",
       "      <td>250178</td>\n",
       "    </tr>\n",
       "    <tr>\n",
       "      <th>3</th>\n",
       "      <td>2002</td>\n",
       "      <td>Industrial</td>\n",
       "      <td>23533</td>\n",
       "      <td>na</td>\n",
       "      <td>na</td>\n",
       "      <td>265690</td>\n",
       "    </tr>\n",
       "    <tr>\n",
       "      <th>4</th>\n",
       "      <td>2002</td>\n",
       "      <td>Others</td>\n",
       "      <td>4164</td>\n",
       "      <td>na</td>\n",
       "      <td>na</td>\n",
       "      <td>185015</td>\n",
       "    </tr>\n",
       "    <tr>\n",
       "      <th>...</th>\n",
       "      <td>...</td>\n",
       "      <td>...</td>\n",
       "      <td>...</td>\n",
       "      <td>...</td>\n",
       "      <td>...</td>\n",
       "      <td>...</td>\n",
       "    </tr>\n",
       "    <tr>\n",
       "      <th>85</th>\n",
       "      <td>2019</td>\n",
       "      <td>HDB</td>\n",
       "      <td>1002671</td>\n",
       "      <td>na</td>\n",
       "      <td>9600</td>\n",
       "      <td>121330</td>\n",
       "    </tr>\n",
       "    <tr>\n",
       "      <th>86</th>\n",
       "      <td>2019</td>\n",
       "      <td>Private Residential</td>\n",
       "      <td>402323</td>\n",
       "      <td>na</td>\n",
       "      <td>24000</td>\n",
       "      <td>818724</td>\n",
       "    </tr>\n",
       "    <tr>\n",
       "      <th>87</th>\n",
       "      <td>2019</td>\n",
       "      <td>Commercial</td>\n",
       "      <td>81555</td>\n",
       "      <td>na</td>\n",
       "      <td>62800</td>\n",
       "      <td>1715165</td>\n",
       "    </tr>\n",
       "    <tr>\n",
       "      <th>88</th>\n",
       "      <td>2019</td>\n",
       "      <td>Industrial</td>\n",
       "      <td>54590</td>\n",
       "      <td>na</td>\n",
       "      <td>36000</td>\n",
       "      <td>1338633</td>\n",
       "    </tr>\n",
       "    <tr>\n",
       "      <th>89</th>\n",
       "      <td>2019</td>\n",
       "      <td>Others</td>\n",
       "      <td>1383</td>\n",
       "      <td>na</td>\n",
       "      <td>229000</td>\n",
       "      <td>419589</td>\n",
       "    </tr>\n",
       "  </tbody>\n",
       "</table>\n",
       "<p>90 rows × 6 columns</p>\n",
       "</div>"
      ],
      "text/plain": [
       "    financial_year        property_type  no_of_cases annual_value  \\\n",
       "0             2002                  HDB       780522           na   \n",
       "1             2002  Private Residential       204943           na   \n",
       "2             2002           Commercial        63179           na   \n",
       "3             2002           Industrial        23533           na   \n",
       "4             2002               Others         4164           na   \n",
       "..             ...                  ...          ...          ...   \n",
       "85            2019                  HDB      1002671           na   \n",
       "86            2019  Private Residential       402323           na   \n",
       "87            2019           Commercial        81555           na   \n",
       "88            2019           Industrial        54590           na   \n",
       "89            2019               Others         1383           na   \n",
       "\n",
       "   median_annual_value  property_tax_collection  \n",
       "0                   na                    33681  \n",
       "1                   na                   287656  \n",
       "2                   na                   250178  \n",
       "3                   na                   265690  \n",
       "4                   na                   185015  \n",
       "..                 ...                      ...  \n",
       "85                9600                   121330  \n",
       "86               24000                   818724  \n",
       "87               62800                  1715165  \n",
       "88               36000                  1338633  \n",
       "89              229000                   419589  \n",
       "\n",
       "[90 rows x 6 columns]"
      ]
     },
     "execution_count": 6,
     "metadata": {},
     "output_type": "execute_result"
    }
   ],
   "source": [
    "df"
   ]
  },
  {
   "cell_type": "markdown",
   "id": "c86de9f7",
   "metadata": {},
   "source": [
    "### Data Cleaning"
   ]
  },
  {
   "cell_type": "code",
   "execution_count": 7,
   "id": "104b15a8",
   "metadata": {},
   "outputs": [],
   "source": [
    "df.annual_value = df.annual_value.replace('na',np.nan,regex=True).astype('float64')\n",
    "df.median_annual_value = df.median_annual_value.replace('na',np.nan,regex=True).astype('float64')"
   ]
  },
  {
   "cell_type": "markdown",
   "id": "7df91395",
   "metadata": {},
   "source": [
    "### nan values filling"
   ]
  },
  {
   "cell_type": "code",
   "execution_count": 11,
   "id": "b73b98b7",
   "metadata": {},
   "outputs": [
    {
     "name": "stdout",
     "output_type": "stream",
     "text": [
      "6214346.5\n",
      "9600.0\n"
     ]
    }
   ],
   "source": [
    "HDB = df[df.property_type == 'HDB']\n",
    "print(HDB.annual_value.median())\n",
    "print(HDB.median_annual_value.median())"
   ]
  },
  {
   "cell_type": "code",
   "execution_count": 12,
   "id": "54aa80dd",
   "metadata": {},
   "outputs": [
    {
     "name": "stderr",
     "output_type": "stream",
     "text": [
      "C:\\Users\\ASUS\\AppData\\Local\\Temp\\ipykernel_5512\\2361122192.py:1: SettingWithCopyWarning: \n",
      "A value is trying to be set on a copy of a slice from a DataFrame.\n",
      "Try using .loc[row_indexer,col_indexer] = value instead\n",
      "\n",
      "See the caveats in the documentation: https://pandas.pydata.org/pandas-docs/stable/user_guide/indexing.html#returning-a-view-versus-a-copy\n",
      "  HDB.annual_value = HDB.annual_value.replace(np.nan,6214346.5,regex=True).astype('float64')\n",
      "C:\\Users\\ASUS\\AppData\\Local\\Temp\\ipykernel_5512\\2361122192.py:2: SettingWithCopyWarning: \n",
      "A value is trying to be set on a copy of a slice from a DataFrame.\n",
      "Try using .loc[row_indexer,col_indexer] = value instead\n",
      "\n",
      "See the caveats in the documentation: https://pandas.pydata.org/pandas-docs/stable/user_guide/indexing.html#returning-a-view-versus-a-copy\n",
      "  HDB.median_annual_value = HDB.median_annual_value.replace(np.nan,9600.0,regex=True).astype('float64')\n"
     ]
    }
   ],
   "source": [
    "HDB.annual_value = HDB.annual_value.replace(np.nan,6214346.5,regex=True).astype('float64')\n",
    "HDB.median_annual_value = HDB.median_annual_value.replace(np.nan,9600.0,regex=True).astype('float64')"
   ]
  },
  {
   "cell_type": "code",
   "execution_count": 13,
   "id": "5b748d0d",
   "metadata": {},
   "outputs": [
    {
     "name": "stdout",
     "output_type": "stream",
     "text": [
      "6639519.5\n",
      "26100.0\n"
     ]
    }
   ],
   "source": [
    "Private_Residential = df[df.property_type == 'Private Residential']\n",
    "print(Private_Residential.annual_value.median())\n",
    "print(Private_Residential.median_annual_value.median())"
   ]
  },
  {
   "cell_type": "code",
   "execution_count": 14,
   "id": "7ebad22d",
   "metadata": {},
   "outputs": [
    {
     "name": "stderr",
     "output_type": "stream",
     "text": [
      "C:\\Users\\ASUS\\AppData\\Local\\Temp\\ipykernel_5512\\291838272.py:1: SettingWithCopyWarning: \n",
      "A value is trying to be set on a copy of a slice from a DataFrame.\n",
      "Try using .loc[row_indexer,col_indexer] = value instead\n",
      "\n",
      "See the caveats in the documentation: https://pandas.pydata.org/pandas-docs/stable/user_guide/indexing.html#returning-a-view-versus-a-copy\n",
      "  Private_Residential.annual_value = Private_Residential.annual_value.replace(np.nan,6639519.5,regex=True).astype('float64')\n",
      "C:\\Users\\ASUS\\AppData\\Local\\Temp\\ipykernel_5512\\291838272.py:2: SettingWithCopyWarning: \n",
      "A value is trying to be set on a copy of a slice from a DataFrame.\n",
      "Try using .loc[row_indexer,col_indexer] = value instead\n",
      "\n",
      "See the caveats in the documentation: https://pandas.pydata.org/pandas-docs/stable/user_guide/indexing.html#returning-a-view-versus-a-copy\n",
      "  Private_Residential.median_annual_value = Private_Residential.median_annual_value.replace(np.nan,26100.0,regex=True).astype('float64')\n"
     ]
    }
   ],
   "source": [
    "Private_Residential.annual_value = Private_Residential.annual_value.replace(np.nan,6639519.5,regex=True).astype('float64')\n",
    "Private_Residential.median_annual_value = Private_Residential.median_annual_value.replace(np.nan,26100.0,regex=True).astype('float64')"
   ]
  },
  {
   "cell_type": "code",
   "execution_count": 15,
   "id": "8fcb3c05",
   "metadata": {},
   "outputs": [
    {
     "name": "stdout",
     "output_type": "stream",
     "text": [
      "9492212.0\n",
      "56600.0\n"
     ]
    }
   ],
   "source": [
    "Commercial = df[df.property_type == 'Commercial']\n",
    "print(Commercial.annual_value.median())\n",
    "print(Commercial.median_annual_value.median())"
   ]
  },
  {
   "cell_type": "code",
   "execution_count": 16,
   "id": "3646a196",
   "metadata": {},
   "outputs": [
    {
     "name": "stderr",
     "output_type": "stream",
     "text": [
      "C:\\Users\\ASUS\\AppData\\Local\\Temp\\ipykernel_5512\\1054155087.py:1: SettingWithCopyWarning: \n",
      "A value is trying to be set on a copy of a slice from a DataFrame.\n",
      "Try using .loc[row_indexer,col_indexer] = value instead\n",
      "\n",
      "See the caveats in the documentation: https://pandas.pydata.org/pandas-docs/stable/user_guide/indexing.html#returning-a-view-versus-a-copy\n",
      "  Commercial.annual_value = Commercial.annual_value.replace(np.nan,9492212.0,regex=True).astype('float64')\n",
      "C:\\Users\\ASUS\\AppData\\Local\\Temp\\ipykernel_5512\\1054155087.py:2: SettingWithCopyWarning: \n",
      "A value is trying to be set on a copy of a slice from a DataFrame.\n",
      "Try using .loc[row_indexer,col_indexer] = value instead\n",
      "\n",
      "See the caveats in the documentation: https://pandas.pydata.org/pandas-docs/stable/user_guide/indexing.html#returning-a-view-versus-a-copy\n",
      "  Commercial.median_annual_value = Commercial.median_annual_value.replace(np.nan,56600.0,regex=True).astype('float64')\n"
     ]
    }
   ],
   "source": [
    "Commercial.annual_value = Commercial.annual_value.replace(np.nan,9492212.0,regex=True).astype('float64')\n",
    "Commercial.median_annual_value = Commercial.median_annual_value.replace(np.nan,56600.0,regex=True).astype('float64')"
   ]
  },
  {
   "cell_type": "code",
   "execution_count": 17,
   "id": "cb369b82",
   "metadata": {},
   "outputs": [
    {
     "name": "stdout",
     "output_type": "stream",
     "text": [
      "6999972.0\n",
      "39750.0\n"
     ]
    }
   ],
   "source": [
    "Industrial = df[df.property_type == 'Industrial']\n",
    "print(Industrial.annual_value.median())\n",
    "print(Industrial.median_annual_value.median())"
   ]
  },
  {
   "cell_type": "code",
   "execution_count": 18,
   "id": "278e463e",
   "metadata": {},
   "outputs": [
    {
     "name": "stderr",
     "output_type": "stream",
     "text": [
      "C:\\Users\\ASUS\\AppData\\Local\\Temp\\ipykernel_5512\\1807325805.py:1: SettingWithCopyWarning: \n",
      "A value is trying to be set on a copy of a slice from a DataFrame.\n",
      "Try using .loc[row_indexer,col_indexer] = value instead\n",
      "\n",
      "See the caveats in the documentation: https://pandas.pydata.org/pandas-docs/stable/user_guide/indexing.html#returning-a-view-versus-a-copy\n",
      "  Industrial.annual_value = Industrial.annual_value.replace(np.nan,6999972.0,regex=True).astype('float64')\n",
      "C:\\Users\\ASUS\\AppData\\Local\\Temp\\ipykernel_5512\\1807325805.py:2: SettingWithCopyWarning: \n",
      "A value is trying to be set on a copy of a slice from a DataFrame.\n",
      "Try using .loc[row_indexer,col_indexer] = value instead\n",
      "\n",
      "See the caveats in the documentation: https://pandas.pydata.org/pandas-docs/stable/user_guide/indexing.html#returning-a-view-versus-a-copy\n",
      "  Industrial.median_annual_value = Industrial.median_annual_value.replace(np.nan,39750.0,regex=True).astype('float64')\n"
     ]
    }
   ],
   "source": [
    "Industrial.annual_value = Industrial.annual_value.replace(np.nan,6999972.0,regex=True).astype('float64')\n",
    "Industrial.median_annual_value = Industrial.median_annual_value.replace(np.nan,39750.0,regex=True).astype('float64')"
   ]
  },
  {
   "cell_type": "code",
   "execution_count": 19,
   "id": "53c95b9b",
   "metadata": {},
   "outputs": [
    {
     "name": "stdout",
     "output_type": "stream",
     "text": [
      "4967454.5\n",
      "282000.0\n"
     ]
    }
   ],
   "source": [
    "Others = df[df.property_type == 'Others']\n",
    "print(Others.annual_value.median())\n",
    "print(Others.median_annual_value.median())"
   ]
  },
  {
   "cell_type": "code",
   "execution_count": 20,
   "id": "2c3285f5",
   "metadata": {},
   "outputs": [
    {
     "name": "stderr",
     "output_type": "stream",
     "text": [
      "C:\\Users\\ASUS\\AppData\\Local\\Temp\\ipykernel_5512\\2545925946.py:1: SettingWithCopyWarning: \n",
      "A value is trying to be set on a copy of a slice from a DataFrame.\n",
      "Try using .loc[row_indexer,col_indexer] = value instead\n",
      "\n",
      "See the caveats in the documentation: https://pandas.pydata.org/pandas-docs/stable/user_guide/indexing.html#returning-a-view-versus-a-copy\n",
      "  Others.annual_value = Others.annual_value.replace(np.nan,4967454.5,regex=True).astype('float64')\n",
      "C:\\Users\\ASUS\\AppData\\Local\\Temp\\ipykernel_5512\\2545925946.py:2: SettingWithCopyWarning: \n",
      "A value is trying to be set on a copy of a slice from a DataFrame.\n",
      "Try using .loc[row_indexer,col_indexer] = value instead\n",
      "\n",
      "See the caveats in the documentation: https://pandas.pydata.org/pandas-docs/stable/user_guide/indexing.html#returning-a-view-versus-a-copy\n",
      "  Others.median_annual_value = Others.median_annual_value.replace(np.nan,282000.0,regex=True).astype('float64')\n"
     ]
    }
   ],
   "source": [
    "Others.annual_value = Others.annual_value.replace(np.nan,4967454.5,regex=True).astype('float64')\n",
    "Others.median_annual_value = Others.median_annual_value.replace(np.nan,282000.0,regex=True).astype('float64')"
   ]
  },
  {
   "cell_type": "code",
   "execution_count": 45,
   "id": "d631a74d",
   "metadata": {},
   "outputs": [
    {
     "data": {
      "text/html": [
       "<div>\n",
       "<style scoped>\n",
       "    .dataframe tbody tr th:only-of-type {\n",
       "        vertical-align: middle;\n",
       "    }\n",
       "\n",
       "    .dataframe tbody tr th {\n",
       "        vertical-align: top;\n",
       "    }\n",
       "\n",
       "    .dataframe thead th {\n",
       "        text-align: right;\n",
       "    }\n",
       "</style>\n",
       "<table border=\"1\" class=\"dataframe\">\n",
       "  <thead>\n",
       "    <tr style=\"text-align: right;\">\n",
       "      <th></th>\n",
       "      <th>financial_year</th>\n",
       "      <th>property_type</th>\n",
       "      <th>no_of_cases</th>\n",
       "      <th>annual_value</th>\n",
       "      <th>median_annual_value</th>\n",
       "      <th>property_tax_collection</th>\n",
       "    </tr>\n",
       "  </thead>\n",
       "  <tbody>\n",
       "    <tr>\n",
       "      <th>0</th>\n",
       "      <td>2002</td>\n",
       "      <td>HDB</td>\n",
       "      <td>780522</td>\n",
       "      <td>6214346.5</td>\n",
       "      <td>9600.0</td>\n",
       "      <td>33681</td>\n",
       "    </tr>\n",
       "    <tr>\n",
       "      <th>5</th>\n",
       "      <td>2003</td>\n",
       "      <td>HDB</td>\n",
       "      <td>793949</td>\n",
       "      <td>6214346.5</td>\n",
       "      <td>9600.0</td>\n",
       "      <td>32382</td>\n",
       "    </tr>\n",
       "    <tr>\n",
       "      <th>10</th>\n",
       "      <td>2004</td>\n",
       "      <td>HDB</td>\n",
       "      <td>800298</td>\n",
       "      <td>6214346.5</td>\n",
       "      <td>9600.0</td>\n",
       "      <td>51325</td>\n",
       "    </tr>\n",
       "    <tr>\n",
       "      <th>15</th>\n",
       "      <td>2005</td>\n",
       "      <td>HDB</td>\n",
       "      <td>808771</td>\n",
       "      <td>6214346.5</td>\n",
       "      <td>9600.0</td>\n",
       "      <td>72694</td>\n",
       "    </tr>\n",
       "    <tr>\n",
       "      <th>20</th>\n",
       "      <td>2006</td>\n",
       "      <td>HDB</td>\n",
       "      <td>814123</td>\n",
       "      <td>4568182.0</td>\n",
       "      <td>9600.0</td>\n",
       "      <td>82073</td>\n",
       "    </tr>\n",
       "    <tr>\n",
       "      <th>...</th>\n",
       "      <td>...</td>\n",
       "      <td>...</td>\n",
       "      <td>...</td>\n",
       "      <td>...</td>\n",
       "      <td>...</td>\n",
       "      <td>...</td>\n",
       "    </tr>\n",
       "    <tr>\n",
       "      <th>69</th>\n",
       "      <td>2015</td>\n",
       "      <td>Others</td>\n",
       "      <td>1527</td>\n",
       "      <td>4967454.5</td>\n",
       "      <td>335000.0</td>\n",
       "      <td>440070</td>\n",
       "    </tr>\n",
       "    <tr>\n",
       "      <th>74</th>\n",
       "      <td>2016</td>\n",
       "      <td>Others</td>\n",
       "      <td>1189</td>\n",
       "      <td>4967454.5</td>\n",
       "      <td>280000.0</td>\n",
       "      <td>314253</td>\n",
       "    </tr>\n",
       "    <tr>\n",
       "      <th>79</th>\n",
       "      <td>2017</td>\n",
       "      <td>Others</td>\n",
       "      <td>1019</td>\n",
       "      <td>4967454.5</td>\n",
       "      <td>285000.0</td>\n",
       "      <td>329847</td>\n",
       "    </tr>\n",
       "    <tr>\n",
       "      <th>84</th>\n",
       "      <td>2018</td>\n",
       "      <td>Others</td>\n",
       "      <td>1283</td>\n",
       "      <td>4967454.5</td>\n",
       "      <td>231000.0</td>\n",
       "      <td>375977</td>\n",
       "    </tr>\n",
       "    <tr>\n",
       "      <th>89</th>\n",
       "      <td>2019</td>\n",
       "      <td>Others</td>\n",
       "      <td>1383</td>\n",
       "      <td>4967454.5</td>\n",
       "      <td>229000.0</td>\n",
       "      <td>419589</td>\n",
       "    </tr>\n",
       "  </tbody>\n",
       "</table>\n",
       "<p>90 rows × 6 columns</p>\n",
       "</div>"
      ],
      "text/plain": [
       "    financial_year property_type  no_of_cases  annual_value  \\\n",
       "0             2002           HDB       780522     6214346.5   \n",
       "5             2003           HDB       793949     6214346.5   \n",
       "10            2004           HDB       800298     6214346.5   \n",
       "15            2005           HDB       808771     6214346.5   \n",
       "20            2006           HDB       814123     4568182.0   \n",
       "..             ...           ...          ...           ...   \n",
       "69            2015        Others         1527     4967454.5   \n",
       "74            2016        Others         1189     4967454.5   \n",
       "79            2017        Others         1019     4967454.5   \n",
       "84            2018        Others         1283     4967454.5   \n",
       "89            2019        Others         1383     4967454.5   \n",
       "\n",
       "    median_annual_value  property_tax_collection  \n",
       "0                9600.0                    33681  \n",
       "5                9600.0                    32382  \n",
       "10               9600.0                    51325  \n",
       "15               9600.0                    72694  \n",
       "20               9600.0                    82073  \n",
       "..                  ...                      ...  \n",
       "69             335000.0                   440070  \n",
       "74             280000.0                   314253  \n",
       "79             285000.0                   329847  \n",
       "84             231000.0                   375977  \n",
       "89             229000.0                   419589  \n",
       "\n",
       "[90 rows x 6 columns]"
      ]
     },
     "execution_count": 45,
     "metadata": {},
     "output_type": "execute_result"
    }
   ],
   "source": [
    "dffilled = pd.concat([HDB,Private_Residential,Commercial,Industrial,Others])\n",
    "dffilled"
   ]
  },
  {
   "cell_type": "code",
   "execution_count": 23,
   "id": "48152747",
   "metadata": {},
   "outputs": [],
   "source": [
    "dffillednum = df[['no_of_cases','annual_value','median_annual_value','property_tax_collection']]"
   ]
  },
  {
   "cell_type": "code",
   "execution_count": 25,
   "id": "6eebfed3",
   "metadata": {},
   "outputs": [],
   "source": [
    "dfnum = df[['no_of_cases','annual_value','median_annual_value','property_tax_collection']]"
   ]
  },
  {
   "cell_type": "markdown",
   "id": "c247169f",
   "metadata": {},
   "source": [
    "### Descriptive Stats"
   ]
  },
  {
   "cell_type": "code",
   "execution_count": 53,
   "id": "afa23b9e",
   "metadata": {},
   "outputs": [
    {
     "data": {
      "text/html": [
       "<div>\n",
       "<style scoped>\n",
       "    .dataframe tbody tr th:only-of-type {\n",
       "        vertical-align: middle;\n",
       "    }\n",
       "\n",
       "    .dataframe tbody tr th {\n",
       "        vertical-align: top;\n",
       "    }\n",
       "\n",
       "    .dataframe thead th {\n",
       "        text-align: right;\n",
       "    }\n",
       "</style>\n",
       "<table border=\"1\" class=\"dataframe\">\n",
       "  <thead>\n",
       "    <tr style=\"text-align: right;\">\n",
       "      <th></th>\n",
       "      <th>financial_year</th>\n",
       "      <th>no_of_cases</th>\n",
       "      <th>annual_value</th>\n",
       "      <th>median_annual_value</th>\n",
       "      <th>property_tax_collection</th>\n",
       "    </tr>\n",
       "  </thead>\n",
       "  <tbody>\n",
       "    <tr>\n",
       "      <th>count</th>\n",
       "      <td>90.000000</td>\n",
       "      <td>9.000000e+01</td>\n",
       "      <td>3.000000e+01</td>\n",
       "      <td>50.000000</td>\n",
       "      <td>9.000000e+01</td>\n",
       "    </tr>\n",
       "    <tr>\n",
       "      <th>mean</th>\n",
       "      <td>2010.500000</td>\n",
       "      <td>2.539732e+05</td>\n",
       "      <td>6.859096e+06</td>\n",
       "      <td>79483.400000</td>\n",
       "      <td>5.794093e+05</td>\n",
       "    </tr>\n",
       "    <tr>\n",
       "      <th>std</th>\n",
       "      <td>5.217193</td>\n",
       "      <td>3.271393e+05</td>\n",
       "      <td>2.107147e+06</td>\n",
       "      <td>98361.330829</td>\n",
       "      <td>4.487204e+05</td>\n",
       "    </tr>\n",
       "    <tr>\n",
       "      <th>min</th>\n",
       "      <td>2002.000000</td>\n",
       "      <td>1.019000e+03</td>\n",
       "      <td>3.991085e+06</td>\n",
       "      <td>8100.000000</td>\n",
       "      <td>3.238200e+04</td>\n",
       "    </tr>\n",
       "    <tr>\n",
       "      <th>25%</th>\n",
       "      <td>2006.000000</td>\n",
       "      <td>2.840750e+04</td>\n",
       "      <td>5.402162e+06</td>\n",
       "      <td>24000.000000</td>\n",
       "      <td>2.337702e+05</td>\n",
       "    </tr>\n",
       "    <tr>\n",
       "      <th>50%</th>\n",
       "      <td>2010.500000</td>\n",
       "      <td>7.712300e+04</td>\n",
       "      <td>6.472180e+06</td>\n",
       "      <td>39750.000000</td>\n",
       "      <td>4.557800e+05</td>\n",
       "    </tr>\n",
       "    <tr>\n",
       "      <th>75%</th>\n",
       "      <td>2015.000000</td>\n",
       "      <td>3.334135e+05</td>\n",
       "      <td>8.228930e+06</td>\n",
       "      <td>60500.000000</td>\n",
       "      <td>8.385215e+05</td>\n",
       "    </tr>\n",
       "    <tr>\n",
       "      <th>max</th>\n",
       "      <td>2019.000000</td>\n",
       "      <td>1.002671e+06</td>\n",
       "      <td>1.263014e+07</td>\n",
       "      <td>335000.000000</td>\n",
       "      <td>1.715165e+06</td>\n",
       "    </tr>\n",
       "  </tbody>\n",
       "</table>\n",
       "</div>"
      ],
      "text/plain": [
       "       financial_year   no_of_cases  annual_value  median_annual_value  \\\n",
       "count       90.000000  9.000000e+01  3.000000e+01            50.000000   \n",
       "mean      2010.500000  2.539732e+05  6.859096e+06         79483.400000   \n",
       "std          5.217193  3.271393e+05  2.107147e+06         98361.330829   \n",
       "min       2002.000000  1.019000e+03  3.991085e+06          8100.000000   \n",
       "25%       2006.000000  2.840750e+04  5.402162e+06         24000.000000   \n",
       "50%       2010.500000  7.712300e+04  6.472180e+06         39750.000000   \n",
       "75%       2015.000000  3.334135e+05  8.228930e+06         60500.000000   \n",
       "max       2019.000000  1.002671e+06  1.263014e+07        335000.000000   \n",
       "\n",
       "       property_tax_collection  \n",
       "count             9.000000e+01  \n",
       "mean              5.794093e+05  \n",
       "std               4.487204e+05  \n",
       "min               3.238200e+04  \n",
       "25%               2.337702e+05  \n",
       "50%               4.557800e+05  \n",
       "75%               8.385215e+05  \n",
       "max               1.715165e+06  "
      ]
     },
     "execution_count": 53,
     "metadata": {},
     "output_type": "execute_result"
    }
   ],
   "source": [
    "df.describe()"
   ]
  },
  {
   "cell_type": "code",
   "execution_count": 26,
   "id": "7f0e87a3",
   "metadata": {},
   "outputs": [
    {
     "data": {
      "text/plain": [
       "no_of_cases                2.539732e+05\n",
       "annual_value               6.859096e+06\n",
       "median_annual_value        7.948340e+04\n",
       "property_tax_collection    5.794093e+05\n",
       "dtype: float64"
      ]
     },
     "execution_count": 26,
     "metadata": {},
     "output_type": "execute_result"
    }
   ],
   "source": [
    "#Mean\n",
    "dfnum.mean()"
   ]
  },
  {
   "cell_type": "code",
   "execution_count": 27,
   "id": "ed4f64e0",
   "metadata": {},
   "outputs": [
    {
     "data": {
      "text/plain": [
       "no_of_cases                  77123.0\n",
       "annual_value               6472180.5\n",
       "median_annual_value          39750.0\n",
       "property_tax_collection     455780.0\n",
       "dtype: float64"
      ]
     },
     "execution_count": 27,
     "metadata": {},
     "output_type": "execute_result"
    }
   ],
   "source": [
    "#Median\n",
    "dfnum.median()"
   ]
  },
  {
   "cell_type": "code",
   "execution_count": 28,
   "id": "379446eb",
   "metadata": {},
   "outputs": [
    {
     "data": {
      "text/plain": [
       "no_of_cases                3.271393e+05\n",
       "annual_value               2.107147e+06\n",
       "median_annual_value        9.836133e+04\n",
       "property_tax_collection    4.487204e+05\n",
       "dtype: float64"
      ]
     },
     "execution_count": 28,
     "metadata": {},
     "output_type": "execute_result"
    }
   ],
   "source": [
    "#Standard Deviation\n",
    "dfnum.std()"
   ]
  },
  {
   "cell_type": "code",
   "execution_count": 29,
   "id": "57a8ec75",
   "metadata": {},
   "outputs": [
    {
     "data": {
      "text/plain": [
       "no_of_cases                1.234076\n",
       "annual_value               0.862763\n",
       "median_annual_value        1.613294\n",
       "property_tax_collection    0.862642\n",
       "dtype: float64"
      ]
     },
     "execution_count": 29,
     "metadata": {},
     "output_type": "execute_result"
    }
   ],
   "source": [
    "#Skewness\n",
    "dfnum.skew()"
   ]
  },
  {
   "cell_type": "code",
   "execution_count": 30,
   "id": "10ba8861",
   "metadata": {},
   "outputs": [
    {
     "data": {
      "text/plain": [
       "no_of_cases               -0.071242\n",
       "annual_value               0.351697\n",
       "median_annual_value        0.990279\n",
       "property_tax_collection   -0.262027\n",
       "dtype: float64"
      ]
     },
     "execution_count": 30,
     "metadata": {},
     "output_type": "execute_result"
    }
   ],
   "source": [
    "#Kurtosis\n",
    "dfnum.kurtosis()"
   ]
  },
  {
   "cell_type": "code",
   "execution_count": 54,
   "id": "dd5b5e8c",
   "metadata": {},
   "outputs": [
    {
     "name": "stdout",
     "output_type": "stream",
     "text": [
      "Percentile values of no_of_cases\n",
      " 25th Percentile: 28407.5 , 50th Percentile: 77123.0 , 75th Percentile: 333413.5 \n",
      "\n",
      "Percentile values of Annual Value\n",
      " 25th Percentile: nan , 50th Percentile: nan , 75th Percentile: nan \n",
      "\n",
      "Percentile values of Median Annual Value\n",
      " 25th Percentile: nan , 50th Percentile: nan , 75th Percentile: nan \n",
      "\n",
      "Percentile values of Property Tax Collection\n",
      " 25th Percentile: 233770.25 , 50th Percentile: 455780.0 , 75th Percentile: 838521.5\n"
     ]
    }
   ],
   "source": [
    "#Percentile\n",
    "print('Percentile values of no_of_cases\\n','25th Percentile:', np.percentile(df.no_of_cases,25),',', '50th Percentile:',np.percentile(df.no_of_cases,50),',', '75th Percentile:',np.percentile(df.no_of_cases,75),'\\n')\n",
    "print('Percentile values of Annual Value\\n','25th Percentile:', np.percentile(df.annual_value,25),',', '50th Percentile:',np.percentile(df.annual_value,50),',', '75th Percentile:',np.percentile(df.annual_value,75),'\\n')\n",
    "print('Percentile values of Median Annual Value\\n','25th Percentile:', np.percentile(df.median_annual_value,25),',', '50th Percentile:',np.percentile(df.median_annual_value,50),',', '75th Percentile:',np.percentile(df.median_annual_value,75),'\\n')\n",
    "print('Percentile values of Property Tax Collection\\n','25th Percentile:', np.percentile(df.property_tax_collection,25),',', '50th Percentile:',np.percentile(df.property_tax_collection,50),',', '75th Percentile:',np.percentile(df.property_tax_collection,75))"
   ]
  },
  {
   "cell_type": "markdown",
   "id": "7563a1aa",
   "metadata": {},
   "source": [
    "### Outlier Detection using Boxplot"
   ]
  },
  {
   "cell_type": "code",
   "execution_count": 55,
   "id": "b0a5de00",
   "metadata": {},
   "outputs": [
    {
     "data": {
      "image/png": "[encoded data removed]",
      "text/plain": [
       "<Figure size 1000x800 with 4 Axes>"
      ]
     },
     "metadata": {},
     "output_type": "display_data"
    }
   ],
   "source": [
    "#Skewness\n",
    "fig = plt.figure(figsize=(10,8))\n",
    "fig.subplots_adjust(hspace=0.5)\n",
    "\n",
    "fig.add_subplot(221)\n",
    "sb.boxplot(df.no_of_cases)\n",
    "plt.title('no_of_cases')\n",
    "\n",
    "fig.add_subplot(222)\n",
    "sb.boxplot(df.annual_value)\n",
    "plt.title('annual_value')\n",
    "\n",
    "fig.add_subplot(223)\n",
    "sb.boxplot(df.median_annual_value)\n",
    "plt.title('median_annual_value')\n",
    "\n",
    "fig.add_subplot(224)\n",
    "sb.boxplot(df.property_tax_collection)\n",
    "plt.title('property_tax_collection')\n",
    "\n",
    "plt.show()"
   ]
  },
  {
   "cell_type": "markdown",
   "id": "deebbd11",
   "metadata": {},
   "source": [
    "### Outliers"
   ]
  },
  {
   "cell_type": "code",
   "execution_count": 46,
   "id": "a1a57815",
   "metadata": {},
   "outputs": [
    {
     "name": "stderr",
     "output_type": "stream",
     "text": [
      "C:\\Users\\ASUS\\AppData\\Local\\Temp\\ipykernel_5512\\607021653.py:6: UserWarning: Boolean Series key will be reindexed to match DataFrame index.\n",
      "  t0 = df[(dffilled.no_of_cases < c2) | (dffilled.no_of_cases > c1)]\n"
     ]
    },
    {
     "data": {
      "text/html": [
       "<div>\n",
       "<style scoped>\n",
       "    .dataframe tbody tr th:only-of-type {\n",
       "        vertical-align: middle;\n",
       "    }\n",
       "\n",
       "    .dataframe tbody tr th {\n",
       "        vertical-align: top;\n",
       "    }\n",
       "\n",
       "    .dataframe thead th {\n",
       "        text-align: right;\n",
       "    }\n",
       "</style>\n",
       "<table border=\"1\" class=\"dataframe\">\n",
       "  <thead>\n",
       "    <tr style=\"text-align: right;\">\n",
       "      <th></th>\n",
       "      <th>financial_year</th>\n",
       "      <th>property_type</th>\n",
       "      <th>no_of_cases</th>\n",
       "      <th>annual_value</th>\n",
       "      <th>median_annual_value</th>\n",
       "      <th>property_tax_collection</th>\n",
       "    </tr>\n",
       "  </thead>\n",
       "  <tbody>\n",
       "    <tr>\n",
       "      <th>5</th>\n",
       "      <td>2003</td>\n",
       "      <td>HDB</td>\n",
       "      <td>793949</td>\n",
       "      <td>NaN</td>\n",
       "      <td>NaN</td>\n",
       "      <td>32382</td>\n",
       "    </tr>\n",
       "    <tr>\n",
       "      <th>10</th>\n",
       "      <td>2004</td>\n",
       "      <td>HDB</td>\n",
       "      <td>800298</td>\n",
       "      <td>NaN</td>\n",
       "      <td>NaN</td>\n",
       "      <td>51325</td>\n",
       "    </tr>\n",
       "    <tr>\n",
       "      <th>15</th>\n",
       "      <td>2005</td>\n",
       "      <td>HDB</td>\n",
       "      <td>808771</td>\n",
       "      <td>NaN</td>\n",
       "      <td>NaN</td>\n",
       "      <td>72694</td>\n",
       "    </tr>\n",
       "    <tr>\n",
       "      <th>20</th>\n",
       "      <td>2006</td>\n",
       "      <td>HDB</td>\n",
       "      <td>814123</td>\n",
       "      <td>4568182.0</td>\n",
       "      <td>NaN</td>\n",
       "      <td>82073</td>\n",
       "    </tr>\n",
       "    <tr>\n",
       "      <th>25</th>\n",
       "      <td>2007</td>\n",
       "      <td>HDB</td>\n",
       "      <td>821546</td>\n",
       "      <td>5538635.0</td>\n",
       "      <td>NaN</td>\n",
       "      <td>86083</td>\n",
       "    </tr>\n",
       "    <tr>\n",
       "      <th>30</th>\n",
       "      <td>2008</td>\n",
       "      <td>HDB</td>\n",
       "      <td>827168</td>\n",
       "      <td>5573563.0</td>\n",
       "      <td>NaN</td>\n",
       "      <td>82164</td>\n",
       "    </tr>\n",
       "    <tr>\n",
       "      <th>35</th>\n",
       "      <td>2009</td>\n",
       "      <td>HDB</td>\n",
       "      <td>829267</td>\n",
       "      <td>6855130.0</td>\n",
       "      <td>NaN</td>\n",
       "      <td>98139</td>\n",
       "    </tr>\n",
       "    <tr>\n",
       "      <th>40</th>\n",
       "      <td>2010</td>\n",
       "      <td>HDB</td>\n",
       "      <td>836041</td>\n",
       "      <td>6864915.0</td>\n",
       "      <td>8100.0</td>\n",
       "      <td>112520</td>\n",
       "    </tr>\n",
       "    <tr>\n",
       "      <th>45</th>\n",
       "      <td>2011</td>\n",
       "      <td>HDB</td>\n",
       "      <td>847608</td>\n",
       "      <td>8119977.0</td>\n",
       "      <td>9600.0</td>\n",
       "      <td>104543</td>\n",
       "    </tr>\n",
       "    <tr>\n",
       "      <th>50</th>\n",
       "      <td>2012</td>\n",
       "      <td>HDB</td>\n",
       "      <td>858641</td>\n",
       "      <td>NaN</td>\n",
       "      <td>10500.0</td>\n",
       "      <td>144415</td>\n",
       "    </tr>\n",
       "    <tr>\n",
       "      <th>55</th>\n",
       "      <td>2013</td>\n",
       "      <td>HDB</td>\n",
       "      <td>873254</td>\n",
       "      <td>NaN</td>\n",
       "      <td>10800.0</td>\n",
       "      <td>150158</td>\n",
       "    </tr>\n",
       "    <tr>\n",
       "      <th>60</th>\n",
       "      <td>2014</td>\n",
       "      <td>HDB</td>\n",
       "      <td>899624</td>\n",
       "      <td>NaN</td>\n",
       "      <td>10440.0</td>\n",
       "      <td>140286</td>\n",
       "    </tr>\n",
       "    <tr>\n",
       "      <th>65</th>\n",
       "      <td>2015</td>\n",
       "      <td>HDB</td>\n",
       "      <td>922365</td>\n",
       "      <td>NaN</td>\n",
       "      <td>10080.0</td>\n",
       "      <td>134257</td>\n",
       "    </tr>\n",
       "    <tr>\n",
       "      <th>70</th>\n",
       "      <td>2016</td>\n",
       "      <td>HDB</td>\n",
       "      <td>943089</td>\n",
       "      <td>NaN</td>\n",
       "      <td>9600.0</td>\n",
       "      <td>122876</td>\n",
       "    </tr>\n",
       "    <tr>\n",
       "      <th>75</th>\n",
       "      <td>2017</td>\n",
       "      <td>HDB</td>\n",
       "      <td>971917</td>\n",
       "      <td>NaN</td>\n",
       "      <td>9600.0</td>\n",
       "      <td>117947</td>\n",
       "    </tr>\n",
       "    <tr>\n",
       "      <th>80</th>\n",
       "      <td>2018</td>\n",
       "      <td>HDB</td>\n",
       "      <td>990093</td>\n",
       "      <td>NaN</td>\n",
       "      <td>9600.0</td>\n",
       "      <td>120168</td>\n",
       "    </tr>\n",
       "    <tr>\n",
       "      <th>85</th>\n",
       "      <td>2019</td>\n",
       "      <td>HDB</td>\n",
       "      <td>1002671</td>\n",
       "      <td>NaN</td>\n",
       "      <td>9600.0</td>\n",
       "      <td>121330</td>\n",
       "    </tr>\n",
       "  </tbody>\n",
       "</table>\n",
       "</div>"
      ],
      "text/plain": [
       "    financial_year property_type  no_of_cases  annual_value  \\\n",
       "5             2003           HDB       793949           NaN   \n",
       "10            2004           HDB       800298           NaN   \n",
       "15            2005           HDB       808771           NaN   \n",
       "20            2006           HDB       814123     4568182.0   \n",
       "25            2007           HDB       821546     5538635.0   \n",
       "30            2008           HDB       827168     5573563.0   \n",
       "35            2009           HDB       829267     6855130.0   \n",
       "40            2010           HDB       836041     6864915.0   \n",
       "45            2011           HDB       847608     8119977.0   \n",
       "50            2012           HDB       858641           NaN   \n",
       "55            2013           HDB       873254           NaN   \n",
       "60            2014           HDB       899624           NaN   \n",
       "65            2015           HDB       922365           NaN   \n",
       "70            2016           HDB       943089           NaN   \n",
       "75            2017           HDB       971917           NaN   \n",
       "80            2018           HDB       990093           NaN   \n",
       "85            2019           HDB      1002671           NaN   \n",
       "\n",
       "    median_annual_value  property_tax_collection  \n",
       "5                   NaN                    32382  \n",
       "10                  NaN                    51325  \n",
       "15                  NaN                    72694  \n",
       "20                  NaN                    82073  \n",
       "25                  NaN                    86083  \n",
       "30                  NaN                    82164  \n",
       "35                  NaN                    98139  \n",
       "40               8100.0                   112520  \n",
       "45               9600.0                   104543  \n",
       "50              10500.0                   144415  \n",
       "55              10800.0                   150158  \n",
       "60              10440.0                   140286  \n",
       "65              10080.0                   134257  \n",
       "70               9600.0                   122876  \n",
       "75               9600.0                   117947  \n",
       "80               9600.0                   120168  \n",
       "85               9600.0                   121330  "
      ]
     },
     "execution_count": 46,
     "metadata": {},
     "output_type": "execute_result"
    }
   ],
   "source": [
    "q1 = np.percentile(dffilled.no_of_cases,25)\n",
    "q3 = np.percentile(dffilled.no_of_cases,75)\n",
    "iqr = q3-q1\n",
    "c2 = q1-(1.5*iqr)\n",
    "c1 = q3+(1.5*iqr)\n",
    "t0 = df[(dffilled.no_of_cases < c2) | (dffilled.no_of_cases > c1)]\n",
    "t0"
   ]
  },
  {
   "cell_type": "code",
   "execution_count": 39,
   "id": "8cb50610",
   "metadata": {},
   "outputs": [
    {
     "name": "stderr",
     "output_type": "stream",
     "text": [
      "C:\\Users\\ASUS\\AppData\\Local\\Temp\\ipykernel_5512\\682217486.py:6: UserWarning: Boolean Series key will be reindexed to match DataFrame index.\n",
      "  t0 = df[(dffilled.annual_value < c2) | (dffilled.annual_value > c1)]\n"
     ]
    },
    {
     "data": {
      "text/html": [
       "<div>\n",
       "<style scoped>\n",
       "    .dataframe tbody tr th:only-of-type {\n",
       "        vertical-align: middle;\n",
       "    }\n",
       "\n",
       "    .dataframe tbody tr th {\n",
       "        vertical-align: top;\n",
       "    }\n",
       "\n",
       "    .dataframe thead th {\n",
       "        text-align: right;\n",
       "    }\n",
       "</style>\n",
       "<table border=\"1\" class=\"dataframe\">\n",
       "  <thead>\n",
       "    <tr style=\"text-align: right;\">\n",
       "      <th></th>\n",
       "      <th>financial_year</th>\n",
       "      <th>property_type</th>\n",
       "      <th>no_of_cases</th>\n",
       "      <th>annual_value</th>\n",
       "      <th>median_annual_value</th>\n",
       "      <th>property_tax_collection</th>\n",
       "    </tr>\n",
       "  </thead>\n",
       "  <tbody>\n",
       "    <tr>\n",
       "      <th>47</th>\n",
       "      <td>2011</td>\n",
       "      <td>Commercial</td>\n",
       "      <td>77586</td>\n",
       "      <td>12630138.0</td>\n",
       "      <td>45600.0</td>\n",
       "      <td>1229525</td>\n",
       "    </tr>\n",
       "  </tbody>\n",
       "</table>\n",
       "</div>"
      ],
      "text/plain": [
       "    financial_year property_type  no_of_cases  annual_value  \\\n",
       "47            2011    Commercial        77586    12630138.0   \n",
       "\n",
       "    median_annual_value  property_tax_collection  \n",
       "47              45600.0                  1229525  "
      ]
     },
     "execution_count": 39,
     "metadata": {},
     "output_type": "execute_result"
    }
   ],
   "source": [
    "q1 = np.percentile(dffilled.annual_value,25)\n",
    "q3 = np.percentile(dffilled.annual_value,75)\n",
    "iqr = q3-q1\n",
    "c2 = q1-(1.5*iqr)\n",
    "c1 = q3+(1.5*iqr)\n",
    "t0 = df[(dffilled.annual_value < c2) | (dffilled.annual_value > c1)]\n",
    "t0"
   ]
  },
  {
   "cell_type": "code",
   "execution_count": 48,
   "id": "05c326ce",
   "metadata": {},
   "outputs": [
    {
     "name": "stderr",
     "output_type": "stream",
     "text": [
      "C:\\Users\\ASUS\\AppData\\Local\\Temp\\ipykernel_5512\\207487328.py:6: UserWarning: Boolean Series key will be reindexed to match DataFrame index.\n",
      "  t0 = df[(dffilled.median_annual_value < c2) | (dffilled.median_annual_value > c1)]\n"
     ]
    },
    {
     "data": {
      "text/html": [
       "<div>\n",
       "<style scoped>\n",
       "    .dataframe tbody tr th:only-of-type {\n",
       "        vertical-align: middle;\n",
       "    }\n",
       "\n",
       "    .dataframe tbody tr th {\n",
       "        vertical-align: top;\n",
       "    }\n",
       "\n",
       "    .dataframe thead th {\n",
       "        text-align: right;\n",
       "    }\n",
       "</style>\n",
       "<table border=\"1\" class=\"dataframe\">\n",
       "  <thead>\n",
       "    <tr style=\"text-align: right;\">\n",
       "      <th></th>\n",
       "      <th>financial_year</th>\n",
       "      <th>property_type</th>\n",
       "      <th>no_of_cases</th>\n",
       "      <th>annual_value</th>\n",
       "      <th>median_annual_value</th>\n",
       "      <th>property_tax_collection</th>\n",
       "    </tr>\n",
       "  </thead>\n",
       "  <tbody>\n",
       "    <tr>\n",
       "      <th>4</th>\n",
       "      <td>2002</td>\n",
       "      <td>Others</td>\n",
       "      <td>4164</td>\n",
       "      <td>NaN</td>\n",
       "      <td>NaN</td>\n",
       "      <td>185015</td>\n",
       "    </tr>\n",
       "    <tr>\n",
       "      <th>9</th>\n",
       "      <td>2003</td>\n",
       "      <td>Others</td>\n",
       "      <td>3901</td>\n",
       "      <td>NaN</td>\n",
       "      <td>NaN</td>\n",
       "      <td>186192</td>\n",
       "    </tr>\n",
       "    <tr>\n",
       "      <th>14</th>\n",
       "      <td>2004</td>\n",
       "      <td>Others</td>\n",
       "      <td>3633</td>\n",
       "      <td>NaN</td>\n",
       "      <td>NaN</td>\n",
       "      <td>228301</td>\n",
       "    </tr>\n",
       "    <tr>\n",
       "      <th>19</th>\n",
       "      <td>2005</td>\n",
       "      <td>Others</td>\n",
       "      <td>3588</td>\n",
       "      <td>NaN</td>\n",
       "      <td>NaN</td>\n",
       "      <td>251267</td>\n",
       "    </tr>\n",
       "    <tr>\n",
       "      <th>24</th>\n",
       "      <td>2006</td>\n",
       "      <td>Others</td>\n",
       "      <td>4122</td>\n",
       "      <td>3991085.0</td>\n",
       "      <td>NaN</td>\n",
       "      <td>312575</td>\n",
       "    </tr>\n",
       "    <tr>\n",
       "      <th>29</th>\n",
       "      <td>2007</td>\n",
       "      <td>Others</td>\n",
       "      <td>4206</td>\n",
       "      <td>5228859.0</td>\n",
       "      <td>NaN</td>\n",
       "      <td>451938</td>\n",
       "    </tr>\n",
       "    <tr>\n",
       "      <th>34</th>\n",
       "      <td>2008</td>\n",
       "      <td>Others</td>\n",
       "      <td>4240</td>\n",
       "      <td>6451032.0</td>\n",
       "      <td>NaN</td>\n",
       "      <td>460380</td>\n",
       "    </tr>\n",
       "    <tr>\n",
       "      <th>39</th>\n",
       "      <td>2009</td>\n",
       "      <td>Others</td>\n",
       "      <td>3837</td>\n",
       "      <td>4558745.0</td>\n",
       "      <td>NaN</td>\n",
       "      <td>137739</td>\n",
       "    </tr>\n",
       "    <tr>\n",
       "      <th>44</th>\n",
       "      <td>2010</td>\n",
       "      <td>Others</td>\n",
       "      <td>2209</td>\n",
       "      <td>4706050.0</td>\n",
       "      <td>150000.0</td>\n",
       "      <td>188774</td>\n",
       "    </tr>\n",
       "    <tr>\n",
       "      <th>49</th>\n",
       "      <td>2011</td>\n",
       "      <td>Others</td>\n",
       "      <td>2277</td>\n",
       "      <td>5497245.0</td>\n",
       "      <td>274000.0</td>\n",
       "      <td>830623</td>\n",
       "    </tr>\n",
       "    <tr>\n",
       "      <th>54</th>\n",
       "      <td>2012</td>\n",
       "      <td>Others</td>\n",
       "      <td>2089</td>\n",
       "      <td>NaN</td>\n",
       "      <td>284000.0</td>\n",
       "      <td>475979</td>\n",
       "    </tr>\n",
       "    <tr>\n",
       "      <th>59</th>\n",
       "      <td>2013</td>\n",
       "      <td>Others</td>\n",
       "      <td>2164</td>\n",
       "      <td>NaN</td>\n",
       "      <td>293500.0</td>\n",
       "      <td>596153</td>\n",
       "    </tr>\n",
       "    <tr>\n",
       "      <th>64</th>\n",
       "      <td>2014</td>\n",
       "      <td>Others</td>\n",
       "      <td>1916</td>\n",
       "      <td>NaN</td>\n",
       "      <td>306000.0</td>\n",
       "      <td>475327</td>\n",
       "    </tr>\n",
       "    <tr>\n",
       "      <th>69</th>\n",
       "      <td>2015</td>\n",
       "      <td>Others</td>\n",
       "      <td>1527</td>\n",
       "      <td>NaN</td>\n",
       "      <td>335000.0</td>\n",
       "      <td>440070</td>\n",
       "    </tr>\n",
       "    <tr>\n",
       "      <th>74</th>\n",
       "      <td>2016</td>\n",
       "      <td>Others</td>\n",
       "      <td>1189</td>\n",
       "      <td>NaN</td>\n",
       "      <td>280000.0</td>\n",
       "      <td>314253</td>\n",
       "    </tr>\n",
       "    <tr>\n",
       "      <th>79</th>\n",
       "      <td>2017</td>\n",
       "      <td>Others</td>\n",
       "      <td>1019</td>\n",
       "      <td>NaN</td>\n",
       "      <td>285000.0</td>\n",
       "      <td>329847</td>\n",
       "    </tr>\n",
       "    <tr>\n",
       "      <th>84</th>\n",
       "      <td>2018</td>\n",
       "      <td>Others</td>\n",
       "      <td>1283</td>\n",
       "      <td>NaN</td>\n",
       "      <td>231000.0</td>\n",
       "      <td>375977</td>\n",
       "    </tr>\n",
       "    <tr>\n",
       "      <th>89</th>\n",
       "      <td>2019</td>\n",
       "      <td>Others</td>\n",
       "      <td>1383</td>\n",
       "      <td>NaN</td>\n",
       "      <td>229000.0</td>\n",
       "      <td>419589</td>\n",
       "    </tr>\n",
       "  </tbody>\n",
       "</table>\n",
       "</div>"
      ],
      "text/plain": [
       "    financial_year property_type  no_of_cases  annual_value  \\\n",
       "4             2002        Others         4164           NaN   \n",
       "9             2003        Others         3901           NaN   \n",
       "14            2004        Others         3633           NaN   \n",
       "19            2005        Others         3588           NaN   \n",
       "24            2006        Others         4122     3991085.0   \n",
       "29            2007        Others         4206     5228859.0   \n",
       "34            2008        Others         4240     6451032.0   \n",
       "39            2009        Others         3837     4558745.0   \n",
       "44            2010        Others         2209     4706050.0   \n",
       "49            2011        Others         2277     5497245.0   \n",
       "54            2012        Others         2089           NaN   \n",
       "59            2013        Others         2164           NaN   \n",
       "64            2014        Others         1916           NaN   \n",
       "69            2015        Others         1527           NaN   \n",
       "74            2016        Others         1189           NaN   \n",
       "79            2017        Others         1019           NaN   \n",
       "84            2018        Others         1283           NaN   \n",
       "89            2019        Others         1383           NaN   \n",
       "\n",
       "    median_annual_value  property_tax_collection  \n",
       "4                   NaN                   185015  \n",
       "9                   NaN                   186192  \n",
       "14                  NaN                   228301  \n",
       "19                  NaN                   251267  \n",
       "24                  NaN                   312575  \n",
       "29                  NaN                   451938  \n",
       "34                  NaN                   460380  \n",
       "39                  NaN                   137739  \n",
       "44             150000.0                   188774  \n",
       "49             274000.0                   830623  \n",
       "54             284000.0                   475979  \n",
       "59             293500.0                   596153  \n",
       "64             306000.0                   475327  \n",
       "69             335000.0                   440070  \n",
       "74             280000.0                   314253  \n",
       "79             285000.0                   329847  \n",
       "84             231000.0                   375977  \n",
       "89             229000.0                   419589  "
      ]
     },
     "execution_count": 48,
     "metadata": {},
     "output_type": "execute_result"
    }
   ],
   "source": [
    "q1 = np.percentile(dffilled.median_annual_value,25)\n",
    "q3 = np.percentile(dffilled.median_annual_value,75)\n",
    "iqr = q3-q1\n",
    "c2 = q1-(1.5*iqr)\n",
    "c1 = q3+(1.5*iqr)\n",
    "t0 = df[(dffilled.median_annual_value < c2) | (dffilled.median_annual_value > c1)]\n",
    "t0"
   ]
  },
  {
   "cell_type": "code",
   "execution_count": 37,
   "id": "730e1a35",
   "metadata": {},
   "outputs": [
    {
     "name": "stderr",
     "output_type": "stream",
     "text": [
      "C:\\Users\\ASUS\\AppData\\Local\\Temp\\ipykernel_5512\\3405523927.py:6: UserWarning: Boolean Series key will be reindexed to match DataFrame index.\n",
      "  t = df[(dffilled.property_tax_collection < c2) | (dffilled.property_tax_collection > c1)]\n"
     ]
    },
    {
     "data": {
      "text/html": [
       "<div>\n",
       "<style scoped>\n",
       "    .dataframe tbody tr th:only-of-type {\n",
       "        vertical-align: middle;\n",
       "    }\n",
       "\n",
       "    .dataframe tbody tr th {\n",
       "        vertical-align: top;\n",
       "    }\n",
       "\n",
       "    .dataframe thead th {\n",
       "        text-align: right;\n",
       "    }\n",
       "</style>\n",
       "<table border=\"1\" class=\"dataframe\">\n",
       "  <thead>\n",
       "    <tr style=\"text-align: right;\">\n",
       "      <th></th>\n",
       "      <th>financial_year</th>\n",
       "      <th>property_type</th>\n",
       "      <th>no_of_cases</th>\n",
       "      <th>annual_value</th>\n",
       "      <th>median_annual_value</th>\n",
       "      <th>property_tax_collection</th>\n",
       "    </tr>\n",
       "  </thead>\n",
       "  <tbody>\n",
       "  </tbody>\n",
       "</table>\n",
       "</div>"
      ],
      "text/plain": [
       "Empty DataFrame\n",
       "Columns: [financial_year, property_type, no_of_cases, annual_value, median_annual_value, property_tax_collection]\n",
       "Index: []"
      ]
     },
     "execution_count": 37,
     "metadata": {},
     "output_type": "execute_result"
    }
   ],
   "source": [
    "q1 = np.percentile(dffilled.property_tax_collection,25)\n",
    "q3 = np.percentile(dffilled.property_tax_collection,75)\n",
    "iqr = q3-q1\n",
    "c2 = q1-(1.5*iqr)\n",
    "c1 = q3+(1.5*iqr)\n",
    "t = df[(dffilled.property_tax_collection < c2) | (dffilled.property_tax_collection > c1)]\n",
    "t"
   ]
  },
  {
   "cell_type": "code",
   "execution_count": 49,
   "id": "56666121",
   "metadata": {},
   "outputs": [
    {
     "data": {
      "image/png": "[encoded data removed]",
      "text/plain": [
       "<Figure size 640x480 with 2 Axes>"
      ]
     },
     "metadata": {},
     "output_type": "display_data"
    }
   ],
   "source": [
    "#Heatmap\n",
    "sb.heatmap(dfnum.corr())\n",
    "plt.show()"
   ]
  },
  {
   "cell_type": "code",
   "execution_count": 50,
   "id": "c06229a8",
   "metadata": {},
   "outputs": [
    {
     "data": {
      "text/plain": [
       "array([[ 1.        , -0.49040384],\n",
       "       [-0.49040384,  1.        ]])"
      ]
     },
     "execution_count": 50,
     "metadata": {},
     "output_type": "execute_result"
    }
   ],
   "source": [
    "#Correlation_Coefficient\n",
    "np.corrcoef(dfnum.no_of_cases,dfnum.property_tax_collection)"
   ]
  },
  {
   "cell_type": "code",
   "execution_count": 51,
   "id": "5ce65155",
   "metadata": {},
   "outputs": [
    {
     "data": {
      "text/html": [
       "<div>\n",
       "<style scoped>\n",
       "    .dataframe tbody tr th:only-of-type {\n",
       "        vertical-align: middle;\n",
       "    }\n",
       "\n",
       "    .dataframe tbody tr th {\n",
       "        vertical-align: top;\n",
       "    }\n",
       "\n",
       "    .dataframe thead th {\n",
       "        text-align: right;\n",
       "    }\n",
       "</style>\n",
       "<table border=\"1\" class=\"dataframe\">\n",
       "  <thead>\n",
       "    <tr style=\"text-align: right;\">\n",
       "      <th></th>\n",
       "      <th>no_of_cases</th>\n",
       "      <th>annual_value</th>\n",
       "      <th>median_annual_value</th>\n",
       "      <th>property_tax_collection</th>\n",
       "    </tr>\n",
       "  </thead>\n",
       "  <tbody>\n",
       "    <tr>\n",
       "      <th>no_of_cases</th>\n",
       "      <td>1.000000</td>\n",
       "      <td>-0.083280</td>\n",
       "      <td>-0.510109</td>\n",
       "      <td>-0.490404</td>\n",
       "    </tr>\n",
       "    <tr>\n",
       "      <th>annual_value</th>\n",
       "      <td>-0.083280</td>\n",
       "      <td>1.000000</td>\n",
       "      <td>-0.574352</td>\n",
       "      <td>0.663348</td>\n",
       "    </tr>\n",
       "    <tr>\n",
       "      <th>median_annual_value</th>\n",
       "      <td>-0.510109</td>\n",
       "      <td>-0.574352</td>\n",
       "      <td>1.000000</td>\n",
       "      <td>-0.169014</td>\n",
       "    </tr>\n",
       "    <tr>\n",
       "      <th>property_tax_collection</th>\n",
       "      <td>-0.490404</td>\n",
       "      <td>0.663348</td>\n",
       "      <td>-0.169014</td>\n",
       "      <td>1.000000</td>\n",
       "    </tr>\n",
       "  </tbody>\n",
       "</table>\n",
       "</div>"
      ],
      "text/plain": [
       "                         no_of_cases  annual_value  median_annual_value  \\\n",
       "no_of_cases                 1.000000     -0.083280            -0.510109   \n",
       "annual_value               -0.083280      1.000000            -0.574352   \n",
       "median_annual_value        -0.510109     -0.574352             1.000000   \n",
       "property_tax_collection    -0.490404      0.663348            -0.169014   \n",
       "\n",
       "                         property_tax_collection  \n",
       "no_of_cases                            -0.490404  \n",
       "annual_value                            0.663348  \n",
       "median_annual_value                    -0.169014  \n",
       "property_tax_collection                 1.000000  "
      ]
     },
     "execution_count": 51,
     "metadata": {},
     "output_type": "execute_result"
    }
   ],
   "source": [
    "dfnum.corr()"
   ]
  },
  {
   "cell_type": "code",
   "execution_count": 52,
   "id": "0b18534d",
   "metadata": {},
   "outputs": [
    {
     "data": {
      "image/png": "[encoded data removed]",
      "text/plain": [
       "<Figure size 1000x500 with 4 Axes>"
      ]
     },
     "metadata": {},
     "output_type": "display_data"
    }
   ],
   "source": [
    "#KDE_Plot\n",
    "fig = plt.figure(figsize=(10,5))\n",
    "fig.subplots_adjust(hspace=0.5)\n",
    "\n",
    "fig.add_subplot(221)\n",
    "sb.kdeplot(df.no_of_cases)\n",
    "\n",
    "fig.add_subplot(222)\n",
    "sb.kdeplot(df.annual_value)\n",
    "\n",
    "fig.add_subplot(223)\n",
    "sb.kdeplot(df.median_annual_value)\n",
    "\n",
    "fig.add_subplot(224)\n",
    "sb.kdeplot(df.property_tax_collection)\n",
    "\n",
    "plt.show()"
   ]
  },
  {
   "cell_type": "markdown",
   "id": "11350996",
   "metadata": {},
   "source": [
    "### Data Pre-processing for ML"
   ]
  },
  {
   "cell_type": "code",
   "execution_count": 37,
   "id": "509dd73f",
   "metadata": {},
   "outputs": [
    {
     "data": {
      "text/html": [
       "<div>\n",
       "<style scoped>\n",
       "    .dataframe tbody tr th:only-of-type {\n",
       "        vertical-align: middle;\n",
       "    }\n",
       "\n",
       "    .dataframe tbody tr th {\n",
       "        vertical-align: top;\n",
       "    }\n",
       "\n",
       "    .dataframe thead th {\n",
       "        text-align: right;\n",
       "    }\n",
       "</style>\n",
       "<table border=\"1\" class=\"dataframe\">\n",
       "  <thead>\n",
       "    <tr style=\"text-align: right;\">\n",
       "      <th></th>\n",
       "      <th>financial_year</th>\n",
       "      <th>no_of_cases</th>\n",
       "      <th>annual_value</th>\n",
       "      <th>median_annual_value</th>\n",
       "      <th>property_tax_collection</th>\n",
       "      <th>property_type_HDB</th>\n",
       "      <th>property_type_Industrial</th>\n",
       "      <th>property_type_Others</th>\n",
       "      <th>property_type_Private Residential</th>\n",
       "    </tr>\n",
       "  </thead>\n",
       "  <tbody>\n",
       "    <tr>\n",
       "      <th>0</th>\n",
       "      <td>2002</td>\n",
       "      <td>780522</td>\n",
       "      <td>6214346.5</td>\n",
       "      <td>9600.0</td>\n",
       "      <td>33681</td>\n",
       "      <td>1</td>\n",
       "      <td>0</td>\n",
       "      <td>0</td>\n",
       "      <td>0</td>\n",
       "    </tr>\n",
       "    <tr>\n",
       "      <th>5</th>\n",
       "      <td>2003</td>\n",
       "      <td>793949</td>\n",
       "      <td>6214346.5</td>\n",
       "      <td>9600.0</td>\n",
       "      <td>32382</td>\n",
       "      <td>1</td>\n",
       "      <td>0</td>\n",
       "      <td>0</td>\n",
       "      <td>0</td>\n",
       "    </tr>\n",
       "    <tr>\n",
       "      <th>10</th>\n",
       "      <td>2004</td>\n",
       "      <td>800298</td>\n",
       "      <td>6214346.5</td>\n",
       "      <td>9600.0</td>\n",
       "      <td>51325</td>\n",
       "      <td>1</td>\n",
       "      <td>0</td>\n",
       "      <td>0</td>\n",
       "      <td>0</td>\n",
       "    </tr>\n",
       "    <tr>\n",
       "      <th>15</th>\n",
       "      <td>2005</td>\n",
       "      <td>808771</td>\n",
       "      <td>6214346.5</td>\n",
       "      <td>9600.0</td>\n",
       "      <td>72694</td>\n",
       "      <td>1</td>\n",
       "      <td>0</td>\n",
       "      <td>0</td>\n",
       "      <td>0</td>\n",
       "    </tr>\n",
       "    <tr>\n",
       "      <th>20</th>\n",
       "      <td>2006</td>\n",
       "      <td>814123</td>\n",
       "      <td>4568182.0</td>\n",
       "      <td>9600.0</td>\n",
       "      <td>82073</td>\n",
       "      <td>1</td>\n",
       "      <td>0</td>\n",
       "      <td>0</td>\n",
       "      <td>0</td>\n",
       "    </tr>\n",
       "    <tr>\n",
       "      <th>...</th>\n",
       "      <td>...</td>\n",
       "      <td>...</td>\n",
       "      <td>...</td>\n",
       "      <td>...</td>\n",
       "      <td>...</td>\n",
       "      <td>...</td>\n",
       "      <td>...</td>\n",
       "      <td>...</td>\n",
       "      <td>...</td>\n",
       "    </tr>\n",
       "    <tr>\n",
       "      <th>69</th>\n",
       "      <td>2015</td>\n",
       "      <td>1527</td>\n",
       "      <td>4967454.5</td>\n",
       "      <td>335000.0</td>\n",
       "      <td>440070</td>\n",
       "      <td>0</td>\n",
       "      <td>0</td>\n",
       "      <td>1</td>\n",
       "      <td>0</td>\n",
       "    </tr>\n",
       "    <tr>\n",
       "      <th>74</th>\n",
       "      <td>2016</td>\n",
       "      <td>1189</td>\n",
       "      <td>4967454.5</td>\n",
       "      <td>280000.0</td>\n",
       "      <td>314253</td>\n",
       "      <td>0</td>\n",
       "      <td>0</td>\n",
       "      <td>1</td>\n",
       "      <td>0</td>\n",
       "    </tr>\n",
       "    <tr>\n",
       "      <th>79</th>\n",
       "      <td>2017</td>\n",
       "      <td>1019</td>\n",
       "      <td>4967454.5</td>\n",
       "      <td>285000.0</td>\n",
       "      <td>329847</td>\n",
       "      <td>0</td>\n",
       "      <td>0</td>\n",
       "      <td>1</td>\n",
       "      <td>0</td>\n",
       "    </tr>\n",
       "    <tr>\n",
       "      <th>84</th>\n",
       "      <td>2018</td>\n",
       "      <td>1283</td>\n",
       "      <td>4967454.5</td>\n",
       "      <td>231000.0</td>\n",
       "      <td>375977</td>\n",
       "      <td>0</td>\n",
       "      <td>0</td>\n",
       "      <td>1</td>\n",
       "      <td>0</td>\n",
       "    </tr>\n",
       "    <tr>\n",
       "      <th>89</th>\n",
       "      <td>2019</td>\n",
       "      <td>1383</td>\n",
       "      <td>4967454.5</td>\n",
       "      <td>229000.0</td>\n",
       "      <td>419589</td>\n",
       "      <td>0</td>\n",
       "      <td>0</td>\n",
       "      <td>1</td>\n",
       "      <td>0</td>\n",
       "    </tr>\n",
       "  </tbody>\n",
       "</table>\n",
       "<p>90 rows × 9 columns</p>\n",
       "</div>"
      ],
      "text/plain": [
       "    financial_year  no_of_cases  annual_value  median_annual_value  \\\n",
       "0             2002       780522     6214346.5               9600.0   \n",
       "5             2003       793949     6214346.5               9600.0   \n",
       "10            2004       800298     6214346.5               9600.0   \n",
       "15            2005       808771     6214346.5               9600.0   \n",
       "20            2006       814123     4568182.0               9600.0   \n",
       "..             ...          ...           ...                  ...   \n",
       "69            2015         1527     4967454.5             335000.0   \n",
       "74            2016         1189     4967454.5             280000.0   \n",
       "79            2017         1019     4967454.5             285000.0   \n",
       "84            2018         1283     4967454.5             231000.0   \n",
       "89            2019         1383     4967454.5             229000.0   \n",
       "\n",
       "    property_tax_collection  property_type_HDB  property_type_Industrial  \\\n",
       "0                     33681                  1                         0   \n",
       "5                     32382                  1                         0   \n",
       "10                    51325                  1                         0   \n",
       "15                    72694                  1                         0   \n",
       "20                    82073                  1                         0   \n",
       "..                      ...                ...                       ...   \n",
       "69                   440070                  0                         0   \n",
       "74                   314253                  0                         0   \n",
       "79                   329847                  0                         0   \n",
       "84                   375977                  0                         0   \n",
       "89                   419589                  0                         0   \n",
       "\n",
       "    property_type_Others  property_type_Private Residential  \n",
       "0                      0                                  0  \n",
       "5                      0                                  0  \n",
       "10                     0                                  0  \n",
       "15                     0                                  0  \n",
       "20                     0                                  0  \n",
       "..                   ...                                ...  \n",
       "69                     1                                  0  \n",
       "74                     1                                  0  \n",
       "79                     1                                  0  \n",
       "84                     1                                  0  \n",
       "89                     1                                  0  \n",
       "\n",
       "[90 rows x 9 columns]"
      ]
     },
     "execution_count": 37,
     "metadata": {},
     "output_type": "execute_result"
    }
   ],
   "source": [
    "dt=pd.get_dummies(data=dffilled,columns=['property_type'],drop_first=True)\n",
    "dt"
   ]
  },
  {
   "cell_type": "code",
   "execution_count": 38,
   "id": "d16499e3",
   "metadata": {
    "scrolled": true
   },
   "outputs": [
    {
     "data": {
      "text/plain": [
       "array([[2.0020000e+03, 7.8052200e+05, 6.2143465e+06, 9.6000000e+03,\n",
       "        1.0000000e+00, 0.0000000e+00, 0.0000000e+00, 0.0000000e+00],\n",
       "       [2.0030000e+03, 7.9394900e+05, 6.2143465e+06, 9.6000000e+03,\n",
       "        1.0000000e+00, 0.0000000e+00, 0.0000000e+00, 0.0000000e+00],\n",
       "       [2.0040000e+03, 8.0029800e+05, 6.2143465e+06, 9.6000000e+03,\n",
       "        1.0000000e+00, 0.0000000e+00, 0.0000000e+00, 0.0000000e+00],\n",
       "       [2.0050000e+03, 8.0877100e+05, 6.2143465e+06, 9.6000000e+03,\n",
       "        1.0000000e+00, 0.0000000e+00, 0.0000000e+00, 0.0000000e+00],\n",
       "       [2.0060000e+03, 8.1412300e+05, 4.5681820e+06, 9.6000000e+03,\n",
       "        1.0000000e+00, 0.0000000e+00, 0.0000000e+00, 0.0000000e+00],\n",
       "       [2.0070000e+03, 8.2154600e+05, 5.5386350e+06, 9.6000000e+03,\n",
       "        1.0000000e+00, 0.0000000e+00, 0.0000000e+00, 0.0000000e+00],\n",
       "       [2.0080000e+03, 8.2716800e+05, 5.5735630e+06, 9.6000000e+03,\n",
       "        1.0000000e+00, 0.0000000e+00, 0.0000000e+00, 0.0000000e+00],\n",
       "       [2.0090000e+03, 8.2926700e+05, 6.8551300e+06, 9.6000000e+03,\n",
       "        1.0000000e+00, 0.0000000e+00, 0.0000000e+00, 0.0000000e+00],\n",
       "       [2.0100000e+03, 8.3604100e+05, 6.8649150e+06, 8.1000000e+03,\n",
       "        1.0000000e+00, 0.0000000e+00, 0.0000000e+00, 0.0000000e+00],\n",
       "       [2.0110000e+03, 8.4760800e+05, 8.1199770e+06, 9.6000000e+03,\n",
       "        1.0000000e+00, 0.0000000e+00, 0.0000000e+00, 0.0000000e+00],\n",
       "       [2.0120000e+03, 8.5864100e+05, 6.2143465e+06, 1.0500000e+04,\n",
       "        1.0000000e+00, 0.0000000e+00, 0.0000000e+00, 0.0000000e+00],\n",
       "       [2.0130000e+03, 8.7325400e+05, 6.2143465e+06, 1.0800000e+04,\n",
       "        1.0000000e+00, 0.0000000e+00, 0.0000000e+00, 0.0000000e+00],\n",
       "       [2.0140000e+03, 8.9962400e+05, 6.2143465e+06, 1.0440000e+04,\n",
       "        1.0000000e+00, 0.0000000e+00, 0.0000000e+00, 0.0000000e+00],\n",
       "       [2.0150000e+03, 9.2236500e+05, 6.2143465e+06, 1.0080000e+04,\n",
       "        1.0000000e+00, 0.0000000e+00, 0.0000000e+00, 0.0000000e+00],\n",
       "       [2.0160000e+03, 9.4308900e+05, 6.2143465e+06, 9.6000000e+03,\n",
       "        1.0000000e+00, 0.0000000e+00, 0.0000000e+00, 0.0000000e+00],\n",
       "       [2.0170000e+03, 9.7191700e+05, 6.2143465e+06, 9.6000000e+03,\n",
       "        1.0000000e+00, 0.0000000e+00, 0.0000000e+00, 0.0000000e+00],\n",
       "       [2.0180000e+03, 9.9009300e+05, 6.2143465e+06, 9.6000000e+03,\n",
       "        1.0000000e+00, 0.0000000e+00, 0.0000000e+00, 0.0000000e+00],\n",
       "       [2.0190000e+03, 1.0026710e+06, 6.2143465e+06, 9.6000000e+03,\n",
       "        1.0000000e+00, 0.0000000e+00, 0.0000000e+00, 0.0000000e+00],\n",
       "       [2.0020000e+03, 2.0494300e+05, 6.6395195e+06, 2.6100000e+04,\n",
       "        0.0000000e+00, 0.0000000e+00, 0.0000000e+00, 1.0000000e+00],\n",
       "       [2.0030000e+03, 2.1680900e+05, 6.6395195e+06, 2.6100000e+04,\n",
       "        0.0000000e+00, 0.0000000e+00, 0.0000000e+00, 1.0000000e+00],\n",
       "       [2.0040000e+03, 2.2904700e+05, 6.6395195e+06, 2.6100000e+04,\n",
       "        0.0000000e+00, 0.0000000e+00, 0.0000000e+00, 1.0000000e+00],\n",
       "       [2.0050000e+03, 2.3752200e+05, 6.6395195e+06, 2.6100000e+04,\n",
       "        0.0000000e+00, 0.0000000e+00, 0.0000000e+00, 1.0000000e+00],\n",
       "       [2.0060000e+03, 2.4065200e+05, 5.3956850e+06, 2.6100000e+04,\n",
       "        0.0000000e+00, 0.0000000e+00, 0.0000000e+00, 1.0000000e+00],\n",
       "       [2.0070000e+03, 2.4052500e+05, 5.4616250e+06, 2.6100000e+04,\n",
       "        0.0000000e+00, 0.0000000e+00, 0.0000000e+00, 1.0000000e+00],\n",
       "       [2.0080000e+03, 2.4582600e+05, 6.4933290e+06, 2.6100000e+04,\n",
       "        0.0000000e+00, 0.0000000e+00, 0.0000000e+00, 1.0000000e+00],\n",
       "       [2.0090000e+03, 2.4858700e+05, 6.7857100e+06, 2.6100000e+04,\n",
       "        0.0000000e+00, 0.0000000e+00, 0.0000000e+00, 1.0000000e+00],\n",
       "       [2.0100000e+03, 2.5934200e+05, 8.2652470e+06, 2.4000000e+04,\n",
       "        0.0000000e+00, 0.0000000e+00, 0.0000000e+00, 1.0000000e+00],\n",
       "       [2.0110000e+03, 2.6974800e+05, 9.5603140e+06, 2.7600000e+04,\n",
       "        0.0000000e+00, 0.0000000e+00, 0.0000000e+00, 1.0000000e+00],\n",
       "       [2.0120000e+03, 2.8218500e+05, 6.6395195e+06, 2.8800000e+04,\n",
       "        0.0000000e+00, 0.0000000e+00, 0.0000000e+00, 1.0000000e+00],\n",
       "       [2.0130000e+03, 2.9463400e+05, 6.6395195e+06, 3.0000000e+04,\n",
       "        0.0000000e+00, 0.0000000e+00, 0.0000000e+00, 1.0000000e+00],\n",
       "       [2.0140000e+03, 3.1478800e+05, 6.6395195e+06, 2.9400000e+04,\n",
       "        0.0000000e+00, 0.0000000e+00, 0.0000000e+00, 1.0000000e+00],\n",
       "       [2.0150000e+03, 3.3962200e+05, 6.6395195e+06, 2.7000000e+04,\n",
       "        0.0000000e+00, 0.0000000e+00, 0.0000000e+00, 1.0000000e+00],\n",
       "       [2.0160000e+03, 3.6758800e+05, 6.6395195e+06, 2.5200000e+04,\n",
       "        0.0000000e+00, 0.0000000e+00, 0.0000000e+00, 1.0000000e+00],\n",
       "       [2.0170000e+03, 3.8664200e+05, 6.6395195e+06, 2.4000000e+04,\n",
       "        0.0000000e+00, 0.0000000e+00, 0.0000000e+00, 1.0000000e+00],\n",
       "       [2.0180000e+03, 4.0002300e+05, 6.6395195e+06, 2.4000000e+04,\n",
       "        0.0000000e+00, 0.0000000e+00, 0.0000000e+00, 1.0000000e+00],\n",
       "       [2.0190000e+03, 4.0232300e+05, 6.6395195e+06, 2.4000000e+04,\n",
       "        0.0000000e+00, 0.0000000e+00, 0.0000000e+00, 1.0000000e+00],\n",
       "       [2.0020000e+03, 6.3179000e+04, 9.4922120e+06, 5.6600000e+04,\n",
       "        0.0000000e+00, 0.0000000e+00, 0.0000000e+00, 0.0000000e+00],\n",
       "       [2.0030000e+03, 6.4549000e+04, 9.4922120e+06, 5.6600000e+04,\n",
       "        0.0000000e+00, 0.0000000e+00, 0.0000000e+00, 0.0000000e+00],\n",
       "       [2.0040000e+03, 6.5433000e+04, 9.4922120e+06, 5.6600000e+04,\n",
       "        0.0000000e+00, 0.0000000e+00, 0.0000000e+00, 0.0000000e+00],\n",
       "       [2.0050000e+03, 6.6169000e+04, 9.4922120e+06, 5.6600000e+04,\n",
       "        0.0000000e+00, 0.0000000e+00, 0.0000000e+00, 0.0000000e+00],\n",
       "       [2.0060000e+03, 6.6186000e+04, 5.4215940e+06, 5.6600000e+04,\n",
       "        0.0000000e+00, 0.0000000e+00, 0.0000000e+00, 0.0000000e+00],\n",
       "       [2.0070000e+03, 6.6360000e+04, 7.9495680e+06, 5.6600000e+04,\n",
       "        0.0000000e+00, 0.0000000e+00, 0.0000000e+00, 0.0000000e+00],\n",
       "       [2.0080000e+03, 6.7027000e+04, 8.7600420e+06, 5.6600000e+04,\n",
       "        0.0000000e+00, 0.0000000e+00, 0.0000000e+00, 0.0000000e+00],\n",
       "       [2.0090000e+03, 7.5767000e+04, 1.0224382e+07, 5.6600000e+04,\n",
       "        0.0000000e+00, 0.0000000e+00, 0.0000000e+00, 0.0000000e+00],\n",
       "       [2.0100000e+03, 7.6825000e+04, 1.0372654e+07, 4.2000000e+04,\n",
       "        0.0000000e+00, 0.0000000e+00, 0.0000000e+00, 0.0000000e+00],\n",
       "       [2.0110000e+03, 7.7586000e+04, 1.2630138e+07, 4.5600000e+04,\n",
       "        0.0000000e+00, 0.0000000e+00, 0.0000000e+00, 0.0000000e+00],\n",
       "       [2.0120000e+03, 7.7768000e+04, 9.4922120e+06, 4.8000000e+04,\n",
       "        0.0000000e+00, 0.0000000e+00, 0.0000000e+00, 0.0000000e+00],\n",
       "       [2.0130000e+03, 7.7928000e+04, 9.4922120e+06, 5.3200000e+04,\n",
       "        0.0000000e+00, 0.0000000e+00, 0.0000000e+00, 0.0000000e+00],\n",
       "       [2.0140000e+03, 7.8847000e+04, 9.4922120e+06, 5.5600000e+04,\n",
       "        0.0000000e+00, 0.0000000e+00, 0.0000000e+00, 0.0000000e+00],\n",
       "       [2.0150000e+03, 7.9221000e+04, 9.4922120e+06, 5.7600000e+04,\n",
       "        0.0000000e+00, 0.0000000e+00, 0.0000000e+00, 0.0000000e+00],\n",
       "       [2.0160000e+03, 7.7421000e+04, 9.4922120e+06, 6.0200000e+04,\n",
       "        0.0000000e+00, 0.0000000e+00, 0.0000000e+00, 0.0000000e+00],\n",
       "       [2.0170000e+03, 7.9183000e+04, 9.4922120e+06, 6.0600000e+04,\n",
       "        0.0000000e+00, 0.0000000e+00, 0.0000000e+00, 0.0000000e+00],\n",
       "       [2.0180000e+03, 8.0039000e+04, 9.4922120e+06, 6.1200000e+04,\n",
       "        0.0000000e+00, 0.0000000e+00, 0.0000000e+00, 0.0000000e+00],\n",
       "       [2.0190000e+03, 8.1555000e+04, 9.4922120e+06, 6.2800000e+04,\n",
       "        0.0000000e+00, 0.0000000e+00, 0.0000000e+00, 0.0000000e+00],\n",
       "       [2.0020000e+03, 2.3533000e+04, 6.9999720e+06, 3.9750000e+04,\n",
       "        0.0000000e+00, 1.0000000e+00, 0.0000000e+00, 0.0000000e+00],\n",
       "       [2.0030000e+03, 2.6443000e+04, 6.9999720e+06, 3.9750000e+04,\n",
       "        0.0000000e+00, 1.0000000e+00, 0.0000000e+00, 0.0000000e+00],\n",
       "       [2.0040000e+03, 2.7183000e+04, 6.9999720e+06, 3.9750000e+04,\n",
       "        0.0000000e+00, 1.0000000e+00, 0.0000000e+00, 0.0000000e+00],\n",
       "       [2.0050000e+03, 2.7613000e+04, 6.9999720e+06, 3.9750000e+04,\n",
       "        0.0000000e+00, 1.0000000e+00, 0.0000000e+00, 0.0000000e+00],\n",
       "       [2.0060000e+03, 2.8174000e+04, 4.5925760e+06, 3.9750000e+04,\n",
       "        0.0000000e+00, 1.0000000e+00, 0.0000000e+00, 0.0000000e+00],\n",
       "       [2.0070000e+03, 2.9108000e+04, 4.6195860e+06, 3.9750000e+04,\n",
       "        0.0000000e+00, 1.0000000e+00, 0.0000000e+00, 0.0000000e+00],\n",
       "       [2.0080000e+03, 3.1042000e+04, 6.1042610e+06, 3.9750000e+04,\n",
       "        0.0000000e+00, 1.0000000e+00, 0.0000000e+00, 0.0000000e+00],\n",
       "       [2.0090000e+03, 3.2297000e+04, 7.8956830e+06, 3.9750000e+04,\n",
       "        0.0000000e+00, 1.0000000e+00, 0.0000000e+00, 0.0000000e+00],\n",
       "       [2.0100000e+03, 3.5591000e+04, 8.3443410e+06, 3.6900000e+04,\n",
       "        0.0000000e+00, 1.0000000e+00, 0.0000000e+00, 0.0000000e+00],\n",
       "       [2.0110000e+03, 3.6709000e+04, 8.9427260e+06, 3.9500000e+04,\n",
       "        0.0000000e+00, 1.0000000e+00, 0.0000000e+00, 0.0000000e+00],\n",
       "       [2.0120000e+03, 3.9497000e+04, 6.9999720e+06, 4.2500000e+04,\n",
       "        0.0000000e+00, 1.0000000e+00, 0.0000000e+00, 0.0000000e+00],\n",
       "       [2.0130000e+03, 4.1144000e+04, 6.9999720e+06, 4.3850000e+04,\n",
       "        0.0000000e+00, 1.0000000e+00, 0.0000000e+00, 0.0000000e+00],\n",
       "       [2.0140000e+03, 4.5118000e+04, 6.9999720e+06, 4.4400000e+04,\n",
       "        0.0000000e+00, 1.0000000e+00, 0.0000000e+00, 0.0000000e+00],\n",
       "       [2.0150000e+03, 4.8942000e+04, 6.9999720e+06, 4.1800000e+04,\n",
       "        0.0000000e+00, 1.0000000e+00, 0.0000000e+00, 0.0000000e+00],\n",
       "       [2.0160000e+03, 5.2209000e+04, 6.9999720e+06, 4.0000000e+04,\n",
       "        0.0000000e+00, 1.0000000e+00, 0.0000000e+00, 0.0000000e+00],\n",
       "       [2.0170000e+03, 5.3036000e+04, 6.9999720e+06, 3.7200000e+04,\n",
       "        0.0000000e+00, 1.0000000e+00, 0.0000000e+00, 0.0000000e+00],\n",
       "       [2.0180000e+03, 5.3817000e+04, 6.9999720e+06, 3.5800000e+04,\n",
       "        0.0000000e+00, 1.0000000e+00, 0.0000000e+00, 0.0000000e+00],\n",
       "       [2.0190000e+03, 5.4590000e+04, 6.9999720e+06, 3.6000000e+04,\n",
       "        0.0000000e+00, 1.0000000e+00, 0.0000000e+00, 0.0000000e+00],\n",
       "       [2.0020000e+03, 4.1640000e+03, 4.9674545e+06, 2.8200000e+05,\n",
       "        0.0000000e+00, 0.0000000e+00, 1.0000000e+00, 0.0000000e+00],\n",
       "       [2.0030000e+03, 3.9010000e+03, 4.9674545e+06, 2.8200000e+05,\n",
       "        0.0000000e+00, 0.0000000e+00, 1.0000000e+00, 0.0000000e+00],\n",
       "       [2.0040000e+03, 3.6330000e+03, 4.9674545e+06, 2.8200000e+05,\n",
       "        0.0000000e+00, 0.0000000e+00, 1.0000000e+00, 0.0000000e+00],\n",
       "       [2.0050000e+03, 3.5880000e+03, 4.9674545e+06, 2.8200000e+05,\n",
       "        0.0000000e+00, 0.0000000e+00, 1.0000000e+00, 0.0000000e+00],\n",
       "       [2.0060000e+03, 4.1220000e+03, 3.9910850e+06, 2.8200000e+05,\n",
       "        0.0000000e+00, 0.0000000e+00, 1.0000000e+00, 0.0000000e+00],\n",
       "       [2.0070000e+03, 4.2060000e+03, 5.2288590e+06, 2.8200000e+05,\n",
       "        0.0000000e+00, 0.0000000e+00, 1.0000000e+00, 0.0000000e+00],\n",
       "       [2.0080000e+03, 4.2400000e+03, 6.4510320e+06, 2.8200000e+05,\n",
       "        0.0000000e+00, 0.0000000e+00, 1.0000000e+00, 0.0000000e+00],\n",
       "       [2.0090000e+03, 3.8370000e+03, 4.5587450e+06, 2.8200000e+05,\n",
       "        0.0000000e+00, 0.0000000e+00, 1.0000000e+00, 0.0000000e+00],\n",
       "       [2.0100000e+03, 2.2090000e+03, 4.7060500e+06, 1.5000000e+05,\n",
       "        0.0000000e+00, 0.0000000e+00, 1.0000000e+00, 0.0000000e+00],\n",
       "       [2.0110000e+03, 2.2770000e+03, 5.4972450e+06, 2.7400000e+05,\n",
       "        0.0000000e+00, 0.0000000e+00, 1.0000000e+00, 0.0000000e+00],\n",
       "       [2.0120000e+03, 2.0890000e+03, 4.9674545e+06, 2.8400000e+05,\n",
       "        0.0000000e+00, 0.0000000e+00, 1.0000000e+00, 0.0000000e+00],\n",
       "       [2.0130000e+03, 2.1640000e+03, 4.9674545e+06, 2.9350000e+05,\n",
       "        0.0000000e+00, 0.0000000e+00, 1.0000000e+00, 0.0000000e+00],\n",
       "       [2.0140000e+03, 1.9160000e+03, 4.9674545e+06, 3.0600000e+05,\n",
       "        0.0000000e+00, 0.0000000e+00, 1.0000000e+00, 0.0000000e+00],\n",
       "       [2.0150000e+03, 1.5270000e+03, 4.9674545e+06, 3.3500000e+05,\n",
       "        0.0000000e+00, 0.0000000e+00, 1.0000000e+00, 0.0000000e+00],\n",
       "       [2.0160000e+03, 1.1890000e+03, 4.9674545e+06, 2.8000000e+05,\n",
       "        0.0000000e+00, 0.0000000e+00, 1.0000000e+00, 0.0000000e+00],\n",
       "       [2.0170000e+03, 1.0190000e+03, 4.9674545e+06, 2.8500000e+05,\n",
       "        0.0000000e+00, 0.0000000e+00, 1.0000000e+00, 0.0000000e+00],\n",
       "       [2.0180000e+03, 1.2830000e+03, 4.9674545e+06, 2.3100000e+05,\n",
       "        0.0000000e+00, 0.0000000e+00, 1.0000000e+00, 0.0000000e+00],\n",
       "       [2.0190000e+03, 1.3830000e+03, 4.9674545e+06, 2.2900000e+05,\n",
       "        0.0000000e+00, 0.0000000e+00, 1.0000000e+00, 0.0000000e+00]])"
      ]
     },
     "execution_count": 38,
     "metadata": {},
     "output_type": "execute_result"
    }
   ],
   "source": [
    "x=dt.drop('property_tax_collection',axis=1).values\n",
    "x"
   ]
  },
  {
   "cell_type": "code",
   "execution_count": 39,
   "id": "bad771eb",
   "metadata": {},
   "outputs": [
    {
     "data": {
      "text/plain": [
       "array([  33681,   32382,   51325,   72694,   82073,   86083,   82164,\n",
       "         98139,  112520,  104543,  144415,  150158,  140286,  134257,\n",
       "        122876,  117947,  120168,  121330,  287656,  269401,  287125,\n",
       "        309703,  310829,  376615,  445512,  418383,  536166,  599055,\n",
       "        617439,  719953,  837899,  853202,  838729,  830792,  830087,\n",
       "        818724,  250178,  282671,  500220,  512972,  565779,  763990,\n",
       "        984143,  630157,  896014, 1229525, 1297599, 1420893, 1452177,\n",
       "       1467894, 1569334, 1547935, 1635055, 1715165,  265690,  324610,\n",
       "        441624,  459622,  474975,  473459,  636185,  437322,  838790,\n",
       "        907783,  960293,  998659, 1139602, 1265357, 1212276, 1274141,\n",
       "       1321801, 1338633,  185015,  186192,  228301,  251267,  312575,\n",
       "        451938,  460380,  137739,  188774,  830623,  475979,  596153,\n",
       "        475327,  440070,  314253,  329847,  375977,  419589], dtype=int64)"
      ]
     },
     "execution_count": 39,
     "metadata": {},
     "output_type": "execute_result"
    }
   ],
   "source": [
    "y=dt['property_tax_collection'].values\n",
    "y"
   ]
  },
  {
   "cell_type": "markdown",
   "id": "7122bd00",
   "metadata": {},
   "source": [
    "### Train - Test Split"
   ]
  },
  {
   "cell_type": "code",
   "execution_count": 40,
   "id": "d2eaea3c",
   "metadata": {},
   "outputs": [],
   "source": [
    "from sklearn.model_selection import train_test_split,cross_val_score\n",
    "x_train,x_test,y_train,y_test=train_test_split(x,y,test_size=0.20)"
   ]
  },
  {
   "cell_type": "code",
   "execution_count": 41,
   "id": "0c1b5671",
   "metadata": {},
   "outputs": [
    {
     "data": {
      "text/html": [
       "<style>#sk-container-id-1 {color: black;background-color: white;}#sk-container-id-1 pre{padding: 0;}#sk-container-id-1 div.sk-toggleable {background-color: white;}#sk-container-id-1 label.sk-toggleable__label {cursor: pointer;display: block;width: 100%;margin-bottom: 0;padding: 0.3em;box-sizing: border-box;text-align: center;}#sk-container-id-1 label.sk-toggleable__label-arrow:before {content: \"▸\";float: left;margin-right: 0.25em;color: #696969;}#sk-container-id-1 label.sk-toggleable__label-arrow:hover:before {color: black;}#sk-container-id-1 div.sk-estimator:hover label.sk-toggleable__label-arrow:before {color: black;}#sk-container-id-1 div.sk-toggleable__content {max-height: 0;max-width: 0;overflow: hidden;text-align: left;background-color: #f0f8ff;}#sk-container-id-1 div.sk-toggleable__content pre {margin: 0.2em;color: black;border-radius: 0.25em;background-color: #f0f8ff;}#sk-container-id-1 input.sk-toggleable__control:checked~div.sk-toggleable__content {max-height: 200px;max-width: 100%;overflow: auto;}#sk-container-id-1 input.sk-toggleable__control:checked~label.sk-toggleable__label-arrow:before {content: \"▾\";}#sk-container-id-1 div.sk-estimator input.sk-toggleable__control:checked~label.sk-toggleable__label {background-color: #d4ebff;}#sk-container-id-1 div.sk-label input.sk-toggleable__control:checked~label.sk-toggleable__label {background-color: #d4ebff;}#sk-container-id-1 input.sk-hidden--visually {border: 0;clip: rect(1px 1px 1px 1px);clip: rect(1px, 1px, 1px, 1px);height: 1px;margin: -1px;overflow: hidden;padding: 0;position: absolute;width: 1px;}#sk-container-id-1 div.sk-estimator {font-family: monospace;background-color: #f0f8ff;border: 1px dotted black;border-radius: 0.25em;box-sizing: border-box;margin-bottom: 0.5em;}#sk-container-id-1 div.sk-estimator:hover {background-color: #d4ebff;}#sk-container-id-1 div.sk-parallel-item::after {content: \"\";width: 100%;border-bottom: 1px solid gray;flex-grow: 1;}#sk-container-id-1 div.sk-label:hover label.sk-toggleable__label {background-color: #d4ebff;}#sk-container-id-1 div.sk-serial::before {content: \"\";position: absolute;border-left: 1px solid gray;box-sizing: border-box;top: 0;bottom: 0;left: 50%;z-index: 0;}#sk-container-id-1 div.sk-serial {display: flex;flex-direction: column;align-items: center;background-color: white;padding-right: 0.2em;padding-left: 0.2em;position: relative;}#sk-container-id-1 div.sk-item {position: relative;z-index: 1;}#sk-container-id-1 div.sk-parallel {display: flex;align-items: stretch;justify-content: center;background-color: white;position: relative;}#sk-container-id-1 div.sk-item::before, #sk-container-id-1 div.sk-parallel-item::before {content: \"\";position: absolute;border-left: 1px solid gray;box-sizing: border-box;top: 0;bottom: 0;left: 50%;z-index: -1;}#sk-container-id-1 div.sk-parallel-item {display: flex;flex-direction: column;z-index: 1;position: relative;background-color: white;}#sk-container-id-1 div.sk-parallel-item:first-child::after {align-self: flex-end;width: 50%;}#sk-container-id-1 div.sk-parallel-item:last-child::after {align-self: flex-start;width: 50%;}#sk-container-id-1 div.sk-parallel-item:only-child::after {width: 0;}#sk-container-id-1 div.sk-dashed-wrapped {border: 1px dashed gray;margin: 0 0.4em 0.5em 0.4em;box-sizing: border-box;padding-bottom: 0.4em;background-color: white;}#sk-container-id-1 div.sk-label label {font-family: monospace;font-weight: bold;display: inline-block;line-height: 1.2em;}#sk-container-id-1 div.sk-label-container {text-align: center;}#sk-container-id-1 div.sk-container {/* jupyter's `normalize.less` sets `[hidden] { display: none; }` but bootstrap.min.css set `[hidden] { display: none !important; }` so we also need the `!important` here to be able to override the default hidden behavior on the sphinx rendered scikit-learn.org. See: https://github.com/scikit-learn/scikit-learn/issues/21755 */display: inline-block !important;position: relative;}#sk-container-id-1 div.sk-text-repr-fallback {display: none;}</style><div id=\"sk-container-id-1\" class=\"sk-top-container\"><div class=\"sk-text-repr-fallback\"><pre>DecisionTreeRegressor()</pre><b>In a Jupyter environment, please rerun this cell to show the HTML representation or trust the notebook. <br />On GitHub, the HTML representation is unable to render, please try loading this page with nbviewer.org.</b></div><div class=\"sk-container\" hidden><div class=\"sk-item\"><div class=\"sk-estimator sk-toggleable\"><input class=\"sk-toggleable__control sk-hidden--visually\" id=\"sk-estimator-id-1\" type=\"checkbox\" checked><label for=\"sk-estimator-id-1\" class=\"sk-toggleable__label sk-toggleable__label-arrow\">DecisionTreeRegressor</label><div class=\"sk-toggleable__content\"><pre>DecisionTreeRegressor()</pre></div></div></div></div></div>"
      ],
      "text/plain": [
       "DecisionTreeRegressor()"
      ]
     },
     "execution_count": 41,
     "metadata": {},
     "output_type": "execute_result"
    }
   ],
   "source": [
    "from sklearn.tree import DecisionTreeRegressor\n",
    "model_1=DecisionTreeRegressor()\n",
    "model_1.fit(x_train,y_train)"
   ]
  },
  {
   "cell_type": "code",
   "execution_count": 42,
   "id": "d8a35fa7",
   "metadata": {},
   "outputs": [
    {
     "data": {
      "text/plain": [
       "array([ 830087.,   51325.,   86083.,  376615.,  376615.,  437322.,\n",
       "        269401.,  907783.,  120168.,  251267.,  282671.,  475979.,\n",
       "        617439.,  375977.,   86083., 1338633.,  329847.,  376615.])"
      ]
     },
     "execution_count": 42,
     "metadata": {},
     "output_type": "execute_result"
    }
   ],
   "source": [
    "y_pred = model_1.predict(x_test)\n",
    "y_pred"
   ]
  },
  {
   "cell_type": "code",
   "execution_count": 43,
   "id": "25727731",
   "metadata": {},
   "outputs": [
    {
     "data": {
      "text/plain": [
       "0.8466439697065781"
      ]
     },
     "execution_count": 43,
     "metadata": {},
     "output_type": "execute_result"
    }
   ],
   "source": [
    "from sklearn.metrics import r2_score,mean_squared_error\n",
    "DTR = r2_score(y_test,y_pred)\n",
    "DTR"
   ]
  },
  {
   "cell_type": "code",
   "execution_count": 44,
   "id": "b0b6a6c7",
   "metadata": {},
   "outputs": [
    {
     "data": {
      "text/plain": [
       "16746190398.11111"
      ]
     },
     "execution_count": 44,
     "metadata": {},
     "output_type": "execute_result"
    }
   ],
   "source": [
    "mse = mean_squared_error(y_test,y_pred)\n",
    "mse"
   ]
  },
  {
   "cell_type": "code",
   "execution_count": 45,
   "id": "80bfafc2",
   "metadata": {},
   "outputs": [],
   "source": [
    "from sklearn.preprocessing import StandardScaler"
   ]
  },
  {
   "cell_type": "code",
   "execution_count": 46,
   "id": "edf100c0",
   "metadata": {},
   "outputs": [],
   "source": [
    "scalar = StandardScaler()"
   ]
  },
  {
   "cell_type": "code",
   "execution_count": 47,
   "id": "55e275ce",
   "metadata": {},
   "outputs": [],
   "source": [
    "xn = scalar.fit_transform(x)\n",
    "yn = scalar.fit_transform(y.reshape(-1,1))"
   ]
  },
  {
   "cell_type": "code",
   "execution_count": 48,
   "id": "ccb21674",
   "metadata": {},
   "outputs": [],
   "source": [
    "xtr,xtes,ytr,ytes = train_test_split(xn,yn,test_size=0.2)"
   ]
  },
  {
   "cell_type": "code",
   "execution_count": 49,
   "id": "63bfbfa0",
   "metadata": {},
   "outputs": [],
   "source": [
    "model_sc = DecisionTreeRegressor()"
   ]
  },
  {
   "cell_type": "code",
   "execution_count": 50,
   "id": "60c966cb",
   "metadata": {},
   "outputs": [
    {
     "data": {
      "text/html": [
       "<style>#sk-container-id-2 {color: black;background-color: white;}#sk-container-id-2 pre{padding: 0;}#sk-container-id-2 div.sk-toggleable {background-color: white;}#sk-container-id-2 label.sk-toggleable__label {cursor: pointer;display: block;width: 100%;margin-bottom: 0;padding: 0.3em;box-sizing: border-box;text-align: center;}#sk-container-id-2 label.sk-toggleable__label-arrow:before {content: \"▸\";float: left;margin-right: 0.25em;color: #696969;}#sk-container-id-2 label.sk-toggleable__label-arrow:hover:before {color: black;}#sk-container-id-2 div.sk-estimator:hover label.sk-toggleable__label-arrow:before {color: black;}#sk-container-id-2 div.sk-toggleable__content {max-height: 0;max-width: 0;overflow: hidden;text-align: left;background-color: #f0f8ff;}#sk-container-id-2 div.sk-toggleable__content pre {margin: 0.2em;color: black;border-radius: 0.25em;background-color: #f0f8ff;}#sk-container-id-2 input.sk-toggleable__control:checked~div.sk-toggleable__content {max-height: 200px;max-width: 100%;overflow: auto;}#sk-container-id-2 input.sk-toggleable__control:checked~label.sk-toggleable__label-arrow:before {content: \"▾\";}#sk-container-id-2 div.sk-estimator input.sk-toggleable__control:checked~label.sk-toggleable__label {background-color: #d4ebff;}#sk-container-id-2 div.sk-label input.sk-toggleable__control:checked~label.sk-toggleable__label {background-color: #d4ebff;}#sk-container-id-2 input.sk-hidden--visually {border: 0;clip: rect(1px 1px 1px 1px);clip: rect(1px, 1px, 1px, 1px);height: 1px;margin: -1px;overflow: hidden;padding: 0;position: absolute;width: 1px;}#sk-container-id-2 div.sk-estimator {font-family: monospace;background-color: #f0f8ff;border: 1px dotted black;border-radius: 0.25em;box-sizing: border-box;margin-bottom: 0.5em;}#sk-container-id-2 div.sk-estimator:hover {background-color: #d4ebff;}#sk-container-id-2 div.sk-parallel-item::after {content: \"\";width: 100%;border-bottom: 1px solid gray;flex-grow: 1;}#sk-container-id-2 div.sk-label:hover label.sk-toggleable__label {background-color: #d4ebff;}#sk-container-id-2 div.sk-serial::before {content: \"\";position: absolute;border-left: 1px solid gray;box-sizing: border-box;top: 0;bottom: 0;left: 50%;z-index: 0;}#sk-container-id-2 div.sk-serial {display: flex;flex-direction: column;align-items: center;background-color: white;padding-right: 0.2em;padding-left: 0.2em;position: relative;}#sk-container-id-2 div.sk-item {position: relative;z-index: 1;}#sk-container-id-2 div.sk-parallel {display: flex;align-items: stretch;justify-content: center;background-color: white;position: relative;}#sk-container-id-2 div.sk-item::before, #sk-container-id-2 div.sk-parallel-item::before {content: \"\";position: absolute;border-left: 1px solid gray;box-sizing: border-box;top: 0;bottom: 0;left: 50%;z-index: -1;}#sk-container-id-2 div.sk-parallel-item {display: flex;flex-direction: column;z-index: 1;position: relative;background-color: white;}#sk-container-id-2 div.sk-parallel-item:first-child::after {align-self: flex-end;width: 50%;}#sk-container-id-2 div.sk-parallel-item:last-child::after {align-self: flex-start;width: 50%;}#sk-container-id-2 div.sk-parallel-item:only-child::after {width: 0;}#sk-container-id-2 div.sk-dashed-wrapped {border: 1px dashed gray;margin: 0 0.4em 0.5em 0.4em;box-sizing: border-box;padding-bottom: 0.4em;background-color: white;}#sk-container-id-2 div.sk-label label {font-family: monospace;font-weight: bold;display: inline-block;line-height: 1.2em;}#sk-container-id-2 div.sk-label-container {text-align: center;}#sk-container-id-2 div.sk-container {/* jupyter's `normalize.less` sets `[hidden] { display: none; }` but bootstrap.min.css set `[hidden] { display: none !important; }` so we also need the `!important` here to be able to override the default hidden behavior on the sphinx rendered scikit-learn.org. See: https://github.com/scikit-learn/scikit-learn/issues/21755 */display: inline-block !important;position: relative;}#sk-container-id-2 div.sk-text-repr-fallback {display: none;}</style><div id=\"sk-container-id-2\" class=\"sk-top-container\"><div class=\"sk-text-repr-fallback\"><pre>DecisionTreeRegressor()</pre><b>In a Jupyter environment, please rerun this cell to show the HTML representation or trust the notebook. <br />On GitHub, the HTML representation is unable to render, please try loading this page with nbviewer.org.</b></div><div class=\"sk-container\" hidden><div class=\"sk-item\"><div class=\"sk-estimator sk-toggleable\"><input class=\"sk-toggleable__control sk-hidden--visually\" id=\"sk-estimator-id-2\" type=\"checkbox\" checked><label for=\"sk-estimator-id-2\" class=\"sk-toggleable__label sk-toggleable__label-arrow\">DecisionTreeRegressor</label><div class=\"sk-toggleable__content\"><pre>DecisionTreeRegressor()</pre></div></div></div></div></div>"
      ],
      "text/plain": [
       "DecisionTreeRegressor()"
      ]
     },
     "execution_count": 50,
     "metadata": {},
     "output_type": "execute_result"
    }
   ],
   "source": [
    "model_sc.fit(xn,yn)"
   ]
  },
  {
   "cell_type": "code",
   "execution_count": 51,
   "id": "4b7cac7e",
   "metadata": {},
   "outputs": [],
   "source": [
    "y_pr= model_sc.predict(xtes)"
   ]
  },
  {
   "cell_type": "code",
   "execution_count": 52,
   "id": "23ae2145",
   "metadata": {},
   "outputs": [
    {
     "data": {
      "text/plain": [
       "array([-0.14888883, -0.45447089, -0.78684912, -0.87543088, -0.59422689,\n",
       "        1.70145398, -0.65502194, -1.06419627,  2.54527884, -0.23179178,\n",
       "        2.36574879,  0.31496475,  0.56335985, -0.7353813 , -0.5710164 ,\n",
       "        0.73590008, -0.70305872, -0.69474221])"
      ]
     },
     "execution_count": 52,
     "metadata": {},
     "output_type": "execute_result"
    }
   ],
   "source": [
    "y_pr"
   ]
  },
  {
   "cell_type": "code",
   "execution_count": 53,
   "id": "a35d3507",
   "metadata": {},
   "outputs": [
    {
     "data": {
      "text/plain": [
       "0.0"
      ]
     },
     "execution_count": 53,
     "metadata": {},
     "output_type": "execute_result"
    }
   ],
   "source": [
    "mse_sc = mean_squared_error(ytes,y_pr)\n",
    "mse_sc"
   ]
  },
  {
   "cell_type": "code",
   "execution_count": 54,
   "id": "4f5bf80a",
   "metadata": {},
   "outputs": [
    {
     "data": {
      "text/plain": [
       "1.0"
      ]
     },
     "execution_count": 54,
     "metadata": {},
     "output_type": "execute_result"
    }
   ],
   "source": [
    "r2_sc = r2_score(ytes,y_pr)\n",
    "r2_sc"
   ]
  },
  {
   "cell_type": "code",
   "execution_count": 55,
   "id": "b347a29b",
   "metadata": {},
   "outputs": [
    {
     "data": {
      "text/plain": [
       "array([-3.71140059e+00, -2.40221956e+03, -2.56658069e+00, -1.64612075e+01,\n",
       "       -2.56231827e-01, -1.60530756e+01, -4.40390169e-01, -1.55577358e+01,\n",
       "       -6.00844858e+00, -3.59948655e+00])"
      ]
     },
     "execution_count": 55,
     "metadata": {},
     "output_type": "execute_result"
    }
   ],
   "source": [
    "model_sc_cv = DecisionTreeRegressor()\n",
    "sc_2=cross_val_score(model_sc,x,y,cv=10,scoring='r2')\n",
    "sc_2"
   ]
  },
  {
   "cell_type": "code",
   "execution_count": 56,
   "id": "ff0097c5",
   "metadata": {},
   "outputs": [
    {
     "data": {
      "text/html": [
       "<style>#sk-container-id-3 {color: black;background-color: white;}#sk-container-id-3 pre{padding: 0;}#sk-container-id-3 div.sk-toggleable {background-color: white;}#sk-container-id-3 label.sk-toggleable__label {cursor: pointer;display: block;width: 100%;margin-bottom: 0;padding: 0.3em;box-sizing: border-box;text-align: center;}#sk-container-id-3 label.sk-toggleable__label-arrow:before {content: \"▸\";float: left;margin-right: 0.25em;color: #696969;}#sk-container-id-3 label.sk-toggleable__label-arrow:hover:before {color: black;}#sk-container-id-3 div.sk-estimator:hover label.sk-toggleable__label-arrow:before {color: black;}#sk-container-id-3 div.sk-toggleable__content {max-height: 0;max-width: 0;overflow: hidden;text-align: left;background-color: #f0f8ff;}#sk-container-id-3 div.sk-toggleable__content pre {margin: 0.2em;color: black;border-radius: 0.25em;background-color: #f0f8ff;}#sk-container-id-3 input.sk-toggleable__control:checked~div.sk-toggleable__content {max-height: 200px;max-width: 100%;overflow: auto;}#sk-container-id-3 input.sk-toggleable__control:checked~label.sk-toggleable__label-arrow:before {content: \"▾\";}#sk-container-id-3 div.sk-estimator input.sk-toggleable__control:checked~label.sk-toggleable__label {background-color: #d4ebff;}#sk-container-id-3 div.sk-label input.sk-toggleable__control:checked~label.sk-toggleable__label {background-color: #d4ebff;}#sk-container-id-3 input.sk-hidden--visually {border: 0;clip: rect(1px 1px 1px 1px);clip: rect(1px, 1px, 1px, 1px);height: 1px;margin: -1px;overflow: hidden;padding: 0;position: absolute;width: 1px;}#sk-container-id-3 div.sk-estimator {font-family: monospace;background-color: #f0f8ff;border: 1px dotted black;border-radius: 0.25em;box-sizing: border-box;margin-bottom: 0.5em;}#sk-container-id-3 div.sk-estimator:hover {background-color: #d4ebff;}#sk-container-id-3 div.sk-parallel-item::after {content: \"\";width: 100%;border-bottom: 1px solid gray;flex-grow: 1;}#sk-container-id-3 div.sk-label:hover label.sk-toggleable__label {background-color: #d4ebff;}#sk-container-id-3 div.sk-serial::before {content: \"\";position: absolute;border-left: 1px solid gray;box-sizing: border-box;top: 0;bottom: 0;left: 50%;z-index: 0;}#sk-container-id-3 div.sk-serial {display: flex;flex-direction: column;align-items: center;background-color: white;padding-right: 0.2em;padding-left: 0.2em;position: relative;}#sk-container-id-3 div.sk-item {position: relative;z-index: 1;}#sk-container-id-3 div.sk-parallel {display: flex;align-items: stretch;justify-content: center;background-color: white;position: relative;}#sk-container-id-3 div.sk-item::before, #sk-container-id-3 div.sk-parallel-item::before {content: \"\";position: absolute;border-left: 1px solid gray;box-sizing: border-box;top: 0;bottom: 0;left: 50%;z-index: -1;}#sk-container-id-3 div.sk-parallel-item {display: flex;flex-direction: column;z-index: 1;position: relative;background-color: white;}#sk-container-id-3 div.sk-parallel-item:first-child::after {align-self: flex-end;width: 50%;}#sk-container-id-3 div.sk-parallel-item:last-child::after {align-self: flex-start;width: 50%;}#sk-container-id-3 div.sk-parallel-item:only-child::after {width: 0;}#sk-container-id-3 div.sk-dashed-wrapped {border: 1px dashed gray;margin: 0 0.4em 0.5em 0.4em;box-sizing: border-box;padding-bottom: 0.4em;background-color: white;}#sk-container-id-3 div.sk-label label {font-family: monospace;font-weight: bold;display: inline-block;line-height: 1.2em;}#sk-container-id-3 div.sk-label-container {text-align: center;}#sk-container-id-3 div.sk-container {/* jupyter's `normalize.less` sets `[hidden] { display: none; }` but bootstrap.min.css set `[hidden] { display: none !important; }` so we also need the `!important` here to be able to override the default hidden behavior on the sphinx rendered scikit-learn.org. See: https://github.com/scikit-learn/scikit-learn/issues/21755 */display: inline-block !important;position: relative;}#sk-container-id-3 div.sk-text-repr-fallback {display: none;}</style><div id=\"sk-container-id-3\" class=\"sk-top-container\"><div class=\"sk-text-repr-fallback\"><pre>DecisionTreeRegressor()</pre><b>In a Jupyter environment, please rerun this cell to show the HTML representation or trust the notebook. <br />On GitHub, the HTML representation is unable to render, please try loading this page with nbviewer.org.</b></div><div class=\"sk-container\" hidden><div class=\"sk-item\"><div class=\"sk-estimator sk-toggleable\"><input class=\"sk-toggleable__control sk-hidden--visually\" id=\"sk-estimator-id-3\" type=\"checkbox\" checked><label for=\"sk-estimator-id-3\" class=\"sk-toggleable__label sk-toggleable__label-arrow\">DecisionTreeRegressor</label><div class=\"sk-toggleable__content\"><pre>DecisionTreeRegressor()</pre></div></div></div></div></div>"
      ],
      "text/plain": [
       "DecisionTreeRegressor()"
      ]
     },
     "execution_count": 56,
     "metadata": {},
     "output_type": "execute_result"
    }
   ],
   "source": [
    "model_sc_opt = DecisionTreeRegressor()\n",
    "model_sc_opt.fit(x,y)"
   ]
  },
  {
   "cell_type": "code",
   "execution_count": 57,
   "id": "7db5fbd3",
   "metadata": {},
   "outputs": [
    {
     "data": {
      "text/plain": [
       "array([  33681.,   32382.,   51325.,   72694.,   82073.,   86083.,\n",
       "         82164.,   98139.,  112520.,  104543.,  144415.,  150158.,\n",
       "        140286.,  134257.,  122876.,  117947.,  120168.,  121330.,\n",
       "        287656.,  269401.,  287125.,  309703.,  310829.,  376615.,\n",
       "        445512.,  418383.,  536166.,  599055.,  617439.,  719953.,\n",
       "        837899.,  853202.,  838729.,  830792.,  830087.,  818724.,\n",
       "        250178.,  282671.,  500220.,  512972.,  565779.,  763990.,\n",
       "        984143.,  630157.,  896014., 1229525., 1297599., 1420893.,\n",
       "       1452177., 1467894., 1569334., 1547935., 1635055., 1715165.,\n",
       "        265690.,  324610.,  441624.,  459622.,  474975.,  473459.,\n",
       "        636185.,  437322.,  838790.,  907783.,  960293.,  998659.,\n",
       "       1139602., 1265357., 1212276., 1274141., 1321801., 1338633.,\n",
       "        185015.,  186192.,  228301.,  251267.,  312575.,  451938.,\n",
       "        460380.,  137739.,  188774.,  830623.,  475979.,  596153.,\n",
       "        475327.,  440070.,  314253.,  329847.,  375977.,  419589.])"
      ]
     },
     "execution_count": 57,
     "metadata": {},
     "output_type": "execute_result"
    }
   ],
   "source": [
    "ypred= model_sc_opt.predict(x)\n",
    "ypred"
   ]
  },
  {
   "cell_type": "code",
   "execution_count": 58,
   "id": "4ac3f30b",
   "metadata": {},
   "outputs": [
    {
     "data": {
      "text/plain": [
       "0.0"
      ]
     },
     "execution_count": 58,
     "metadata": {},
     "output_type": "execute_result"
    }
   ],
   "source": [
    "mse_sc_opt = mean_squared_error(y,ypred)\n",
    "mse_sc_opt"
   ]
  },
  {
   "cell_type": "code",
   "execution_count": 59,
   "id": "acad410c",
   "metadata": {},
   "outputs": [
    {
     "data": {
      "text/plain": [
       "1.0"
      ]
     },
     "execution_count": 59,
     "metadata": {},
     "output_type": "execute_result"
    }
   ],
   "source": [
    "r2_sc_opt = r2_score(y,ypred)\n",
    "r2_sc_opt"
   ]
  },
  {
   "cell_type": "code",
   "execution_count": 60,
   "id": "6a43e87c",
   "metadata": {},
   "outputs": [],
   "source": [
    "df['Y_property_tax_collection'] = ypred"
   ]
  },
  {
   "cell_type": "code",
   "execution_count": 61,
   "id": "735443fe",
   "metadata": {},
   "outputs": [
    {
     "data": {
      "text/html": [
       "<div>\n",
       "<style scoped>\n",
       "    .dataframe tbody tr th:only-of-type {\n",
       "        vertical-align: middle;\n",
       "    }\n",
       "\n",
       "    .dataframe tbody tr th {\n",
       "        vertical-align: top;\n",
       "    }\n",
       "\n",
       "    .dataframe thead th {\n",
       "        text-align: right;\n",
       "    }\n",
       "</style>\n",
       "<table border=\"1\" class=\"dataframe\">\n",
       "  <thead>\n",
       "    <tr style=\"text-align: right;\">\n",
       "      <th></th>\n",
       "      <th>financial_year</th>\n",
       "      <th>property_type</th>\n",
       "      <th>no_of_cases</th>\n",
       "      <th>annual_value</th>\n",
       "      <th>median_annual_value</th>\n",
       "      <th>property_tax_collection</th>\n",
       "      <th>Y_property_tax_collection</th>\n",
       "    </tr>\n",
       "  </thead>\n",
       "  <tbody>\n",
       "    <tr>\n",
       "      <th>0</th>\n",
       "      <td>2002</td>\n",
       "      <td>HDB</td>\n",
       "      <td>780522</td>\n",
       "      <td>NaN</td>\n",
       "      <td>NaN</td>\n",
       "      <td>33681</td>\n",
       "      <td>33681.0</td>\n",
       "    </tr>\n",
       "    <tr>\n",
       "      <th>1</th>\n",
       "      <td>2002</td>\n",
       "      <td>Private Residential</td>\n",
       "      <td>204943</td>\n",
       "      <td>NaN</td>\n",
       "      <td>NaN</td>\n",
       "      <td>287656</td>\n",
       "      <td>32382.0</td>\n",
       "    </tr>\n",
       "    <tr>\n",
       "      <th>2</th>\n",
       "      <td>2002</td>\n",
       "      <td>Commercial</td>\n",
       "      <td>63179</td>\n",
       "      <td>NaN</td>\n",
       "      <td>NaN</td>\n",
       "      <td>250178</td>\n",
       "      <td>51325.0</td>\n",
       "    </tr>\n",
       "    <tr>\n",
       "      <th>3</th>\n",
       "      <td>2002</td>\n",
       "      <td>Industrial</td>\n",
       "      <td>23533</td>\n",
       "      <td>NaN</td>\n",
       "      <td>NaN</td>\n",
       "      <td>265690</td>\n",
       "      <td>72694.0</td>\n",
       "    </tr>\n",
       "    <tr>\n",
       "      <th>4</th>\n",
       "      <td>2002</td>\n",
       "      <td>Others</td>\n",
       "      <td>4164</td>\n",
       "      <td>NaN</td>\n",
       "      <td>NaN</td>\n",
       "      <td>185015</td>\n",
       "      <td>82073.0</td>\n",
       "    </tr>\n",
       "    <tr>\n",
       "      <th>...</th>\n",
       "      <td>...</td>\n",
       "      <td>...</td>\n",
       "      <td>...</td>\n",
       "      <td>...</td>\n",
       "      <td>...</td>\n",
       "      <td>...</td>\n",
       "      <td>...</td>\n",
       "    </tr>\n",
       "    <tr>\n",
       "      <th>85</th>\n",
       "      <td>2019</td>\n",
       "      <td>HDB</td>\n",
       "      <td>1002671</td>\n",
       "      <td>NaN</td>\n",
       "      <td>9600.0</td>\n",
       "      <td>121330</td>\n",
       "      <td>440070.0</td>\n",
       "    </tr>\n",
       "    <tr>\n",
       "      <th>86</th>\n",
       "      <td>2019</td>\n",
       "      <td>Private Residential</td>\n",
       "      <td>402323</td>\n",
       "      <td>NaN</td>\n",
       "      <td>24000.0</td>\n",
       "      <td>818724</td>\n",
       "      <td>314253.0</td>\n",
       "    </tr>\n",
       "    <tr>\n",
       "      <th>87</th>\n",
       "      <td>2019</td>\n",
       "      <td>Commercial</td>\n",
       "      <td>81555</td>\n",
       "      <td>NaN</td>\n",
       "      <td>62800.0</td>\n",
       "      <td>1715165</td>\n",
       "      <td>329847.0</td>\n",
       "    </tr>\n",
       "    <tr>\n",
       "      <th>88</th>\n",
       "      <td>2019</td>\n",
       "      <td>Industrial</td>\n",
       "      <td>54590</td>\n",
       "      <td>NaN</td>\n",
       "      <td>36000.0</td>\n",
       "      <td>1338633</td>\n",
       "      <td>375977.0</td>\n",
       "    </tr>\n",
       "    <tr>\n",
       "      <th>89</th>\n",
       "      <td>2019</td>\n",
       "      <td>Others</td>\n",
       "      <td>1383</td>\n",
       "      <td>NaN</td>\n",
       "      <td>229000.0</td>\n",
       "      <td>419589</td>\n",
       "      <td>419589.0</td>\n",
       "    </tr>\n",
       "  </tbody>\n",
       "</table>\n",
       "<p>90 rows × 7 columns</p>\n",
       "</div>"
      ],
      "text/plain": [
       "    financial_year        property_type  no_of_cases  annual_value  \\\n",
       "0             2002                  HDB       780522           NaN   \n",
       "1             2002  Private Residential       204943           NaN   \n",
       "2             2002           Commercial        63179           NaN   \n",
       "3             2002           Industrial        23533           NaN   \n",
       "4             2002               Others         4164           NaN   \n",
       "..             ...                  ...          ...           ...   \n",
       "85            2019                  HDB      1002671           NaN   \n",
       "86            2019  Private Residential       402323           NaN   \n",
       "87            2019           Commercial        81555           NaN   \n",
       "88            2019           Industrial        54590           NaN   \n",
       "89            2019               Others         1383           NaN   \n",
       "\n",
       "    median_annual_value  property_tax_collection  Y_property_tax_collection  \n",
       "0                   NaN                    33681                    33681.0  \n",
       "1                   NaN                   287656                    32382.0  \n",
       "2                   NaN                   250178                    51325.0  \n",
       "3                   NaN                   265690                    72694.0  \n",
       "4                   NaN                   185015                    82073.0  \n",
       "..                  ...                      ...                        ...  \n",
       "85               9600.0                   121330                   440070.0  \n",
       "86              24000.0                   818724                   314253.0  \n",
       "87              62800.0                  1715165                   329847.0  \n",
       "88              36000.0                  1338633                   375977.0  \n",
       "89             229000.0                   419589                   419589.0  \n",
       "\n",
       "[90 rows x 7 columns]"
      ]
     },
     "execution_count": 61,
     "metadata": {},
     "output_type": "execute_result"
    }
   ],
   "source": [
    "df"
   ]
  },
  {
   "cell_type": "code",
   "execution_count": 62,
   "id": "4e213737",
   "metadata": {},
   "outputs": [
    {
     "data": {
      "text/plain": [
       "array([  33681.,   32382.,   51325.,   72694.,   82073.,   86083.,\n",
       "         82164.,   98139.,  112520.,  104543.,  144415.,  150158.,\n",
       "        140286.,  134257.,  122876.,  117947.,  120168.,  121330.,\n",
       "        287656.,  269401.,  287125.,  309703.,  310829.,  376615.,\n",
       "        445512.,  418383.,  536166.,  599055.,  617439.,  719953.,\n",
       "        837899.,  853202.,  838729.,  830792.,  830087.,  818724.,\n",
       "        250178.,  282671.,  500220.,  512972.,  565779.,  763990.,\n",
       "        984143.,  630157.,  896014., 1229525., 1297599., 1420893.,\n",
       "       1452177., 1467894., 1569334., 1547935., 1635055., 1715165.,\n",
       "        265690.,  324610.,  441624.,  459622.,  474975.,  473459.,\n",
       "        636185.,  437322.,  838790.,  907783.,  960293.,  998659.,\n",
       "       1139602., 1265357., 1212276., 1274141., 1321801., 1338633.,\n",
       "        185015.,  186192.,  228301.,  251267.,  312575.,  451938.,\n",
       "        460380.,  137739.,  188774.,  830623.,  475979.,  596153.,\n",
       "        475327.,  440070.,  314253.,  329847.,  375977.,  419589.])"
      ]
     },
     "execution_count": 62,
     "metadata": {},
     "output_type": "execute_result"
    }
   ],
   "source": [
    "df.Y_property_tax_collection.unique()"
   ]
  },
  {
   "cell_type": "code",
   "execution_count": 63,
   "id": "0eaaf3fe",
   "metadata": {},
   "outputs": [],
   "source": [
    "from scipy.stats import chi2_contingency"
   ]
  },
  {
   "cell_type": "code",
   "execution_count": 64,
   "id": "03bc593f",
   "metadata": {},
   "outputs": [],
   "source": [
    "expected = df.property_tax_collection\n",
    "observed = df.Y_property_tax_collection"
   ]
  },
  {
   "cell_type": "code",
   "execution_count": 65,
   "id": "8063b67a",
   "metadata": {},
   "outputs": [
    {
     "data": {
      "text/plain": [
       "0      33681.0\n",
       "1      32382.0\n",
       "2      51325.0\n",
       "3      72694.0\n",
       "4      82073.0\n",
       "        ...   \n",
       "85    440070.0\n",
       "86    314253.0\n",
       "87    329847.0\n",
       "88    375977.0\n",
       "89    419589.0\n",
       "Name: Y_property_tax_collection, Length: 90, dtype: float64"
      ]
     },
     "execution_count": 65,
     "metadata": {},
     "output_type": "execute_result"
    }
   ],
   "source": [
    "observed"
   ]
  },
  {
   "cell_type": "markdown",
   "id": "34daac9d",
   "metadata": {},
   "source": [
    "### Chi-Square Test"
   ]
  },
  {
   "cell_type": "code",
   "execution_count": 66,
   "id": "b7d2807e",
   "metadata": {
    "scrolled": false
   },
   "outputs": [],
   "source": [
    "chi2_stat,p_val,dof,expected = chi2_contingency(observed)"
   ]
  },
  {
   "cell_type": "code",
   "execution_count": 67,
   "id": "a316f3ea",
   "metadata": {},
   "outputs": [
    {
     "data": {
      "text/plain": [
       "0.0"
      ]
     },
     "execution_count": 67,
     "metadata": {},
     "output_type": "execute_result"
    }
   ],
   "source": [
    "chi2_stat"
   ]
  },
  {
   "cell_type": "code",
   "execution_count": 68,
   "id": "3fda5d15",
   "metadata": {},
   "outputs": [
    {
     "data": {
      "text/plain": [
       "1.0"
      ]
     },
     "execution_count": 68,
     "metadata": {},
     "output_type": "execute_result"
    }
   ],
   "source": [
    "p_val"
   ]
  },
  {
   "cell_type": "code",
   "execution_count": 69,
   "id": "3604e90e",
   "metadata": {},
   "outputs": [
    {
     "data": {
      "text/plain": [
       "array([  33681.,   32382.,   51325.,   72694.,   82073.,   86083.,\n",
       "         82164.,   98139.,  112520.,  104543.,  144415.,  150158.,\n",
       "        140286.,  134257.,  122876.,  117947.,  120168.,  121330.,\n",
       "        287656.,  269401.,  287125.,  309703.,  310829.,  376615.,\n",
       "        445512.,  418383.,  536166.,  599055.,  617439.,  719953.,\n",
       "        837899.,  853202.,  838729.,  830792.,  830087.,  818724.,\n",
       "        250178.,  282671.,  500220.,  512972.,  565779.,  763990.,\n",
       "        984143.,  630157.,  896014., 1229525., 1297599., 1420893.,\n",
       "       1452177., 1467894., 1569334., 1547935., 1635055., 1715165.,\n",
       "        265690.,  324610.,  441624.,  459622.,  474975.,  473459.,\n",
       "        636185.,  437322.,  838790.,  907783.,  960293.,  998659.,\n",
       "       1139602., 1265357., 1212276., 1274141., 1321801., 1338633.,\n",
       "        185015.,  186192.,  228301.,  251267.,  312575.,  451938.,\n",
       "        460380.,  137739.,  188774.,  830623.,  475979.,  596153.,\n",
       "        475327.,  440070.,  314253.,  329847.,  375977.,  419589.])"
      ]
     },
     "execution_count": 69,
     "metadata": {},
     "output_type": "execute_result"
    }
   ],
   "source": [
    "expected"
   ]
  },
  {
   "cell_type": "code",
   "execution_count": null,
   "id": "4ac1a07b",
   "metadata": {},
   "outputs": [],
   "source": []
  }
 ],
 "metadata": {
  "kernelspec": {
   "display_name": "Python 3 (ipykernel)",
   "language": "python",
   "name": "python3"
  },
  "language_info": {
   "codemirror_mode": {
    "name": "ipython",
    "version": 3
   },
   "file_extension": ".py",
   "mimetype": "text/x-python",
   "name": "python",
   "nbconvert_exporter": "python",
   "pygments_lexer": "ipython3",
   "version": "3.11.5"
  }
 },
 "nbformat": 4,
 "nbformat_minor": 5
}
